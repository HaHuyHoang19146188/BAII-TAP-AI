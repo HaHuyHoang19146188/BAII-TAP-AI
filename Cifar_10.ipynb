{
  "nbformat": 4,
  "nbformat_minor": 0,
  "metadata": {
    "colab": {
      "name": "Cifar_10.ipynb",
      "provenance": [],
      "authorship_tag": "ABX9TyOWiwWi8lCZ/VQaRZ51v7XR",
      "include_colab_link": true
    },
    "kernelspec": {
      "name": "python3",
      "display_name": "Python 3"
    },
    "language_info": {
      "name": "python"
    }
  },
  "cells": [
    {
      "cell_type": "markdown",
      "metadata": {
        "id": "view-in-github",
        "colab_type": "text"
      },
      "source": [
        "<a href=\"https://colab.research.google.com/github/HaHuyHoang19146188/BAII-TAP-AI/blob/main/Cifar_10.ipynb\" target=\"_parent\"><img src=\"https://colab.research.google.com/assets/colab-badge.svg\" alt=\"Open In Colab\"/></a>"
      ]
    },
    {
      "cell_type": "code",
      "execution_count": null,
      "metadata": {
        "id": "u7XEPmK6czpH"
      },
      "outputs": [],
      "source": [
        "#import thư viện\n",
        "import numpy as np\n",
        "import pandas as pd\n",
        "from keras.datasets import cifar10\n",
        "import matplotlib.pyplot as plt\n",
        "from keras.utils import np_utils\n",
        "from keras.models import Sequential\n",
        "from keras.layers import Dense, Dropout\n",
        "from tensorflow.keras.optimizers import RMSprop\n",
        "from keras.callbacks import EarlyStopping\n",
        "from keras.backend import dropout"
      ]
    },
    {
      "cell_type": "code",
      "source": [
        "#chia dữ liệu thành 2 tập train, test\n",
        "(x_train, y_train),(x_test,y_test) = cifar10.load_data()"
      ],
      "metadata": {
        "colab": {
          "base_uri": "https://localhost:8080/"
        },
        "id": "KDE1I3B8c_3X",
        "outputId": "788b7f6e-9e1d-4f2f-a5a2-a8e6c4e61780"
      },
      "execution_count": null,
      "outputs": [
        {
          "output_type": "stream",
          "name": "stdout",
          "text": [
            "Downloading data from https://www.cs.toronto.edu/~kriz/cifar-10-python.tar.gz\n",
            "170500096/170498071 [==============================] - 2s 0us/step\n",
            "170508288/170498071 [==============================] - 2s 0us/step\n"
          ]
        }
      ]
    },
    {
      "cell_type": "code",
      "source": [
        "#quan sát dữ liệu\n",
        "x_train.shape"
      ],
      "metadata": {
        "colab": {
          "base_uri": "https://localhost:8080/"
        },
        "id": "wUniCFeRdBcu",
        "outputId": "779ced9a-92e0-4c9a-b0af-184761048d4d"
      },
      "execution_count": null,
      "outputs": [
        {
          "output_type": "execute_result",
          "data": {
            "text/plain": [
              "(50000, 32, 32, 3)"
            ]
          },
          "metadata": {},
          "execution_count": 7
        }
      ]
    },
    {
      "cell_type": "code",
      "source": [
        "y_train.shape"
      ],
      "metadata": {
        "colab": {
          "base_uri": "https://localhost:8080/"
        },
        "id": "iKx8Q4EGdDGH",
        "outputId": "d31bf944-9f8e-4df7-919b-71aa0eff62d3"
      },
      "execution_count": null,
      "outputs": [
        {
          "output_type": "execute_result",
          "data": {
            "text/plain": [
              "(50000, 1)"
            ]
          },
          "metadata": {},
          "execution_count": 8
        }
      ]
    },
    {
      "cell_type": "code",
      "source": [
        "x_test.shape"
      ],
      "metadata": {
        "colab": {
          "base_uri": "https://localhost:8080/"
        },
        "id": "MzQVb1oQdEi7",
        "outputId": "40e19fa9-0ba3-4da9-b63c-a78c1b76c84d"
      },
      "execution_count": null,
      "outputs": [
        {
          "output_type": "execute_result",
          "data": {
            "text/plain": [
              "(10000, 32, 32, 3)"
            ]
          },
          "metadata": {},
          "execution_count": 10
        }
      ]
    },
    {
      "cell_type": "code",
      "source": [
        "y_test.shape"
      ],
      "metadata": {
        "colab": {
          "base_uri": "https://localhost:8080/"
        },
        "id": "yYcfh89WeFNg",
        "outputId": "2910c6e6-4f04-494e-956f-e09d28ec5b77"
      },
      "execution_count": null,
      "outputs": [
        {
          "output_type": "execute_result",
          "data": {
            "text/plain": [
              "(10000, 1)"
            ]
          },
          "metadata": {},
          "execution_count": 11
        }
      ]
    },
    {
      "cell_type": "code",
      "source": [
        "# x_test,x_train là mảng 4 chiều để chuyển về 2 chiều ta lấy 32*32*3\n",
        "x_train = x_train.reshape(50000,3072)\n",
        "x_test = x_test.reshape(10000,3072)\n",
        "#chuẩn hóa \n",
        "x_train = x_train.astype('float32')\n",
        "x_test = x_test.astype('float32')\n",
        "x_train /=255\n",
        "x_test /=255\n",
        "#chuyển y thành 10 class\n",
        "y_train = np_utils.to_categorical(y_train,10)\n",
        "y_test = np_utils.to_categorical(y_test,10)"
      ],
      "metadata": {
        "id": "yUazjjM6eH6Q"
      },
      "execution_count": null,
      "outputs": []
    },
    {
      "cell_type": "code",
      "source": [
        "# tạo mạng noron\n",
        "model = Sequential()\n",
        "model.add(Dense(512,activation='relu',input_shape=(3072,)))\n",
        "model.add(Dropout(0.2))\n",
        "model.add(Dense(256,activation='relu'))\n",
        "model.add(Dropout(0.2))\n",
        "model.add(Dense(512,activation='relu'))\n",
        "model.add(Dropout(0.2))\n",
        "model.add(Dense(10,activation='softmax'))\n",
        "model.summary()"
      ],
      "metadata": {
        "colab": {
          "base_uri": "https://localhost:8080/"
        },
        "id": "DXzY8jzTeKu-",
        "outputId": "0c6bb105-1d16-4736-9d96-0869ddd18c7c"
      },
      "execution_count": null,
      "outputs": [
        {
          "output_type": "stream",
          "name": "stdout",
          "text": [
            "Model: \"sequential_2\"\n",
            "_________________________________________________________________\n",
            " Layer (type)                Output Shape              Param #   \n",
            "=================================================================\n",
            " dense_8 (Dense)             (None, 512)               1573376   \n",
            "                                                                 \n",
            " dropout_6 (Dropout)         (None, 512)               0         \n",
            "                                                                 \n",
            " dense_9 (Dense)             (None, 256)               131328    \n",
            "                                                                 \n",
            " dropout_7 (Dropout)         (None, 256)               0         \n",
            "                                                                 \n",
            " dense_10 (Dense)            (None, 512)               131584    \n",
            "                                                                 \n",
            " dropout_8 (Dropout)         (None, 512)               0         \n",
            "                                                                 \n",
            " dense_11 (Dense)            (None, 10)                5130      \n",
            "                                                                 \n",
            "=================================================================\n",
            "Total params: 1,841,418\n",
            "Trainable params: 1,841,418\n",
            "Non-trainable params: 0\n",
            "_________________________________________________________________\n"
          ]
        }
      ]
    },
    {
      "cell_type": "code",
      "source": [
        "#chạy mô hình\n",
        "model.compile(loss='categorical_crossentropy',optimizer=RMSprop(), metrics=['accuracy'])\n",
        "history = model.fit(x_train,y_train,batch_size=128,epochs=500,verbose=1,\n",
        "                    validation_split=0.2,callbacks=[EarlyStopping(monitor='val_loss',patience=70)])"
      ],
      "metadata": {
        "colab": {
          "base_uri": "https://localhost:8080/"
        },
        "id": "3E1pRZuUeOqC",
        "outputId": "1b421c45-d26a-47d3-f41a-2ede419b2030"
      },
      "execution_count": null,
      "outputs": [
        {
          "output_type": "stream",
          "name": "stdout",
          "text": [
            "Epoch 1/500\n",
            "313/313 [==============================] - 14s 42ms/step - loss: 2.1546 - accuracy: 0.2193 - val_loss: 1.9338 - val_accuracy: 0.2989\n",
            "Epoch 2/500\n",
            "313/313 [==============================] - 13s 41ms/step - loss: 1.9057 - accuracy: 0.3090 - val_loss: 1.8240 - val_accuracy: 0.3392\n",
            "Epoch 3/500\n",
            "313/313 [==============================] - 13s 43ms/step - loss: 1.8314 - accuracy: 0.3408 - val_loss: 1.9361 - val_accuracy: 0.2959\n",
            "Epoch 4/500\n",
            "313/313 [==============================] - 13s 41ms/step - loss: 1.7831 - accuracy: 0.3579 - val_loss: 1.7838 - val_accuracy: 0.3651\n",
            "Epoch 5/500\n",
            "313/313 [==============================] - 13s 42ms/step - loss: 1.7541 - accuracy: 0.3721 - val_loss: 1.7573 - val_accuracy: 0.3694\n",
            "Epoch 6/500\n",
            "313/313 [==============================] - 13s 41ms/step - loss: 1.7172 - accuracy: 0.3850 - val_loss: 1.8115 - val_accuracy: 0.3621\n",
            "Epoch 7/500\n",
            "313/313 [==============================] - 13s 42ms/step - loss: 1.6931 - accuracy: 0.3946 - val_loss: 1.6969 - val_accuracy: 0.4009\n",
            "Epoch 8/500\n",
            "313/313 [==============================] - 13s 42ms/step - loss: 1.6778 - accuracy: 0.3984 - val_loss: 1.6482 - val_accuracy: 0.4139\n",
            "Epoch 9/500\n",
            "313/313 [==============================] - 13s 42ms/step - loss: 1.6638 - accuracy: 0.4047 - val_loss: 1.6272 - val_accuracy: 0.4267\n",
            "Epoch 10/500\n",
            "313/313 [==============================] - 13s 42ms/step - loss: 1.6479 - accuracy: 0.4101 - val_loss: 1.6104 - val_accuracy: 0.4323\n",
            "Epoch 11/500\n",
            "313/313 [==============================] - 13s 42ms/step - loss: 1.6371 - accuracy: 0.4160 - val_loss: 1.6146 - val_accuracy: 0.4299\n",
            "Epoch 12/500\n",
            "313/313 [==============================] - 14s 43ms/step - loss: 1.6240 - accuracy: 0.4236 - val_loss: 1.6139 - val_accuracy: 0.4246\n",
            "Epoch 13/500\n",
            "313/313 [==============================] - 13s 42ms/step - loss: 1.6134 - accuracy: 0.4265 - val_loss: 1.6018 - val_accuracy: 0.4254\n",
            "Epoch 14/500\n",
            "313/313 [==============================] - 13s 42ms/step - loss: 1.6062 - accuracy: 0.4245 - val_loss: 1.6097 - val_accuracy: 0.4261\n",
            "Epoch 15/500\n",
            "313/313 [==============================] - 13s 42ms/step - loss: 1.5914 - accuracy: 0.4323 - val_loss: 1.5909 - val_accuracy: 0.4375\n",
            "Epoch 16/500\n",
            "313/313 [==============================] - 13s 42ms/step - loss: 1.5879 - accuracy: 0.4360 - val_loss: 1.6038 - val_accuracy: 0.4389\n",
            "Epoch 17/500\n",
            "313/313 [==============================] - 13s 42ms/step - loss: 1.5778 - accuracy: 0.4389 - val_loss: 1.6336 - val_accuracy: 0.4313\n",
            "Epoch 18/500\n",
            "313/313 [==============================] - 13s 42ms/step - loss: 1.5732 - accuracy: 0.4403 - val_loss: 1.5547 - val_accuracy: 0.4470\n",
            "Epoch 19/500\n",
            "313/313 [==============================] - 13s 42ms/step - loss: 1.5622 - accuracy: 0.4453 - val_loss: 1.5670 - val_accuracy: 0.4516\n",
            "Epoch 20/500\n",
            "313/313 [==============================] - 13s 42ms/step - loss: 1.5621 - accuracy: 0.4458 - val_loss: 1.6237 - val_accuracy: 0.4231\n",
            "Epoch 21/500\n",
            "313/313 [==============================] - 13s 42ms/step - loss: 1.5600 - accuracy: 0.4433 - val_loss: 1.5953 - val_accuracy: 0.4485\n",
            "Epoch 22/500\n",
            "313/313 [==============================] - 13s 43ms/step - loss: 1.5491 - accuracy: 0.4489 - val_loss: 1.6004 - val_accuracy: 0.4334\n",
            "Epoch 23/500\n",
            "313/313 [==============================] - 13s 43ms/step - loss: 1.5540 - accuracy: 0.4465 - val_loss: 1.6023 - val_accuracy: 0.4404\n",
            "Epoch 24/500\n",
            "313/313 [==============================] - 14s 44ms/step - loss: 1.5494 - accuracy: 0.4535 - val_loss: 1.5549 - val_accuracy: 0.4418\n",
            "Epoch 25/500\n",
            "313/313 [==============================] - 14s 44ms/step - loss: 1.5442 - accuracy: 0.4499 - val_loss: 1.6364 - val_accuracy: 0.4157\n",
            "Epoch 26/500\n",
            "313/313 [==============================] - 14s 45ms/step - loss: 1.5340 - accuracy: 0.4553 - val_loss: 1.6913 - val_accuracy: 0.4021\n",
            "Epoch 27/500\n",
            "313/313 [==============================] - 16s 51ms/step - loss: 1.5392 - accuracy: 0.4545 - val_loss: 1.5733 - val_accuracy: 0.4326\n",
            "Epoch 28/500\n",
            "313/313 [==============================] - 15s 47ms/step - loss: 1.5295 - accuracy: 0.4552 - val_loss: 1.6366 - val_accuracy: 0.4287\n",
            "Epoch 29/500\n",
            "313/313 [==============================] - 14s 45ms/step - loss: 1.5300 - accuracy: 0.4583 - val_loss: 1.5088 - val_accuracy: 0.4618\n",
            "Epoch 30/500\n",
            "313/313 [==============================] - 14s 45ms/step - loss: 1.5234 - accuracy: 0.4611 - val_loss: 1.5397 - val_accuracy: 0.4559\n",
            "Epoch 31/500\n",
            "313/313 [==============================] - 14s 44ms/step - loss: 1.5239 - accuracy: 0.4615 - val_loss: 1.5281 - val_accuracy: 0.4472\n",
            "Epoch 32/500\n",
            "313/313 [==============================] - 14s 43ms/step - loss: 1.5164 - accuracy: 0.4621 - val_loss: 1.5116 - val_accuracy: 0.4747\n",
            "Epoch 33/500\n",
            "313/313 [==============================] - 13s 42ms/step - loss: 1.5180 - accuracy: 0.4600 - val_loss: 1.6132 - val_accuracy: 0.4112\n",
            "Epoch 34/500\n",
            "313/313 [==============================] - 13s 42ms/step - loss: 1.5156 - accuracy: 0.4669 - val_loss: 1.5395 - val_accuracy: 0.4576\n",
            "Epoch 35/500\n",
            "313/313 [==============================] - 13s 43ms/step - loss: 1.5166 - accuracy: 0.4670 - val_loss: 1.5087 - val_accuracy: 0.4696\n",
            "Epoch 36/500\n",
            "313/313 [==============================] - 13s 42ms/step - loss: 1.5271 - accuracy: 0.4602 - val_loss: 1.5104 - val_accuracy: 0.4653\n",
            "Epoch 37/500\n",
            "313/313 [==============================] - 13s 42ms/step - loss: 1.5158 - accuracy: 0.4613 - val_loss: 1.5056 - val_accuracy: 0.4740\n",
            "Epoch 38/500\n",
            "313/313 [==============================] - 13s 42ms/step - loss: 1.5061 - accuracy: 0.4669 - val_loss: 1.5113 - val_accuracy: 0.4767\n",
            "Epoch 39/500\n",
            "313/313 [==============================] - 13s 42ms/step - loss: 1.5032 - accuracy: 0.4709 - val_loss: 1.5328 - val_accuracy: 0.4620\n",
            "Epoch 40/500\n",
            "313/313 [==============================] - 13s 43ms/step - loss: 1.5029 - accuracy: 0.4715 - val_loss: 1.5548 - val_accuracy: 0.4689\n",
            "Epoch 41/500\n",
            "313/313 [==============================] - 13s 42ms/step - loss: 1.4990 - accuracy: 0.4669 - val_loss: 1.5588 - val_accuracy: 0.4497\n",
            "Epoch 42/500\n",
            "313/313 [==============================] - 13s 43ms/step - loss: 1.5001 - accuracy: 0.4713 - val_loss: 1.5380 - val_accuracy: 0.4546\n",
            "Epoch 43/500\n",
            "313/313 [==============================] - 13s 42ms/step - loss: 1.4998 - accuracy: 0.4692 - val_loss: 1.5189 - val_accuracy: 0.4829\n",
            "Epoch 44/500\n",
            "313/313 [==============================] - 13s 43ms/step - loss: 1.4963 - accuracy: 0.4720 - val_loss: 1.5338 - val_accuracy: 0.4691\n",
            "Epoch 45/500\n",
            "313/313 [==============================] - 13s 43ms/step - loss: 1.4963 - accuracy: 0.4744 - val_loss: 1.5649 - val_accuracy: 0.4467\n",
            "Epoch 46/500\n",
            "313/313 [==============================] - 13s 42ms/step - loss: 1.4836 - accuracy: 0.4757 - val_loss: 1.5137 - val_accuracy: 0.4708\n",
            "Epoch 47/500\n",
            "313/313 [==============================] - 13s 42ms/step - loss: 1.4916 - accuracy: 0.4742 - val_loss: 1.4890 - val_accuracy: 0.4819\n",
            "Epoch 48/500\n",
            "313/313 [==============================] - 13s 42ms/step - loss: 1.4933 - accuracy: 0.4758 - val_loss: 1.4754 - val_accuracy: 0.4922\n",
            "Epoch 49/500\n",
            "313/313 [==============================] - 13s 42ms/step - loss: 1.4840 - accuracy: 0.4750 - val_loss: 1.5377 - val_accuracy: 0.4565\n",
            "Epoch 50/500\n",
            "313/313 [==============================] - 13s 42ms/step - loss: 1.4856 - accuracy: 0.4770 - val_loss: 1.5548 - val_accuracy: 0.4516\n",
            "Epoch 51/500\n",
            "313/313 [==============================] - 13s 42ms/step - loss: 1.4813 - accuracy: 0.4778 - val_loss: 1.5573 - val_accuracy: 0.4500\n",
            "Epoch 52/500\n",
            "313/313 [==============================] - 13s 42ms/step - loss: 1.4824 - accuracy: 0.4824 - val_loss: 1.4667 - val_accuracy: 0.4836\n",
            "Epoch 53/500\n",
            "313/313 [==============================] - 13s 42ms/step - loss: 1.4806 - accuracy: 0.4771 - val_loss: 1.4914 - val_accuracy: 0.4850\n",
            "Epoch 54/500\n",
            "313/313 [==============================] - 13s 43ms/step - loss: 1.4739 - accuracy: 0.4796 - val_loss: 1.5469 - val_accuracy: 0.4551\n",
            "Epoch 55/500\n",
            "313/313 [==============================] - 13s 43ms/step - loss: 1.4689 - accuracy: 0.4833 - val_loss: 1.5071 - val_accuracy: 0.4625\n",
            "Epoch 56/500\n",
            "313/313 [==============================] - 14s 43ms/step - loss: 1.4694 - accuracy: 0.4838 - val_loss: 1.4995 - val_accuracy: 0.4813\n",
            "Epoch 57/500\n",
            "313/313 [==============================] - 13s 43ms/step - loss: 1.4692 - accuracy: 0.4831 - val_loss: 1.5122 - val_accuracy: 0.4734\n",
            "Epoch 58/500\n",
            "313/313 [==============================] - 13s 42ms/step - loss: 1.4643 - accuracy: 0.4871 - val_loss: 1.5531 - val_accuracy: 0.4610\n",
            "Epoch 59/500\n",
            "313/313 [==============================] - 13s 43ms/step - loss: 1.4648 - accuracy: 0.4839 - val_loss: 1.5417 - val_accuracy: 0.4465\n",
            "Epoch 60/500\n",
            "313/313 [==============================] - 13s 43ms/step - loss: 1.4672 - accuracy: 0.4830 - val_loss: 1.5274 - val_accuracy: 0.4583\n",
            "Epoch 61/500\n",
            "313/313 [==============================] - 13s 43ms/step - loss: 1.4683 - accuracy: 0.4848 - val_loss: 1.4840 - val_accuracy: 0.4800\n",
            "Epoch 62/500\n",
            "313/313 [==============================] - 13s 43ms/step - loss: 1.4519 - accuracy: 0.4889 - val_loss: 1.5018 - val_accuracy: 0.4637\n",
            "Epoch 63/500\n",
            "313/313 [==============================] - 13s 43ms/step - loss: 1.4604 - accuracy: 0.4866 - val_loss: 1.5368 - val_accuracy: 0.4737\n",
            "Epoch 64/500\n",
            "313/313 [==============================] - 13s 42ms/step - loss: 1.4637 - accuracy: 0.4855 - val_loss: 1.5099 - val_accuracy: 0.4742\n",
            "Epoch 65/500\n",
            "313/313 [==============================] - 13s 43ms/step - loss: 1.4535 - accuracy: 0.4901 - val_loss: 1.6368 - val_accuracy: 0.4162\n",
            "Epoch 66/500\n",
            "313/313 [==============================] - 13s 43ms/step - loss: 1.4598 - accuracy: 0.4865 - val_loss: 1.5213 - val_accuracy: 0.4648\n",
            "Epoch 67/500\n",
            "313/313 [==============================] - 13s 42ms/step - loss: 1.4460 - accuracy: 0.4910 - val_loss: 1.4800 - val_accuracy: 0.4809\n",
            "Epoch 68/500\n",
            "313/313 [==============================] - 13s 42ms/step - loss: 1.4496 - accuracy: 0.4922 - val_loss: 1.5504 - val_accuracy: 0.4666\n",
            "Epoch 69/500\n",
            "313/313 [==============================] - 13s 42ms/step - loss: 1.4525 - accuracy: 0.4882 - val_loss: 1.5398 - val_accuracy: 0.4604\n",
            "Epoch 70/500\n",
            "313/313 [==============================] - 13s 42ms/step - loss: 1.4443 - accuracy: 0.4945 - val_loss: 1.4659 - val_accuracy: 0.4936\n",
            "Epoch 71/500\n",
            "313/313 [==============================] - 13s 42ms/step - loss: 1.4423 - accuracy: 0.4945 - val_loss: 1.5695 - val_accuracy: 0.4560\n",
            "Epoch 72/500\n",
            "313/313 [==============================] - 13s 42ms/step - loss: 1.4548 - accuracy: 0.4929 - val_loss: 1.5137 - val_accuracy: 0.4687\n",
            "Epoch 73/500\n",
            "313/313 [==============================] - 13s 43ms/step - loss: 1.4548 - accuracy: 0.4946 - val_loss: 1.5771 - val_accuracy: 0.4544\n",
            "Epoch 74/500\n",
            "313/313 [==============================] - 13s 42ms/step - loss: 1.4392 - accuracy: 0.4907 - val_loss: 1.5151 - val_accuracy: 0.4822\n",
            "Epoch 75/500\n",
            "313/313 [==============================] - 13s 42ms/step - loss: 1.4404 - accuracy: 0.4924 - val_loss: 1.5685 - val_accuracy: 0.4571\n",
            "Epoch 76/500\n",
            "313/313 [==============================] - 13s 43ms/step - loss: 1.4488 - accuracy: 0.4879 - val_loss: 1.5654 - val_accuracy: 0.4644\n",
            "Epoch 77/500\n",
            "313/313 [==============================] - 13s 42ms/step - loss: 1.4497 - accuracy: 0.4951 - val_loss: 1.5073 - val_accuracy: 0.4835\n",
            "Epoch 78/500\n",
            "313/313 [==============================] - 13s 42ms/step - loss: 1.4274 - accuracy: 0.4972 - val_loss: 1.5541 - val_accuracy: 0.4536\n",
            "Epoch 79/500\n",
            "313/313 [==============================] - 13s 42ms/step - loss: 1.4366 - accuracy: 0.4968 - val_loss: 1.5596 - val_accuracy: 0.4591\n",
            "Epoch 80/500\n",
            "313/313 [==============================] - 13s 41ms/step - loss: 1.4335 - accuracy: 0.4990 - val_loss: 1.6058 - val_accuracy: 0.4577\n",
            "Epoch 81/500\n",
            "313/313 [==============================] - 13s 42ms/step - loss: 1.4297 - accuracy: 0.4982 - val_loss: 1.5179 - val_accuracy: 0.4792\n",
            "Epoch 82/500\n",
            "313/313 [==============================] - 13s 42ms/step - loss: 1.4315 - accuracy: 0.4965 - val_loss: 1.4784 - val_accuracy: 0.4863\n",
            "Epoch 83/500\n",
            "313/313 [==============================] - 13s 42ms/step - loss: 1.4285 - accuracy: 0.4992 - val_loss: 1.5202 - val_accuracy: 0.4661\n",
            "Epoch 84/500\n",
            "313/313 [==============================] - 13s 42ms/step - loss: 1.4267 - accuracy: 0.4960 - val_loss: 1.4955 - val_accuracy: 0.4735\n",
            "Epoch 85/500\n",
            "313/313 [==============================] - 13s 42ms/step - loss: 1.4258 - accuracy: 0.5010 - val_loss: 1.5338 - val_accuracy: 0.4617\n",
            "Epoch 86/500\n",
            "313/313 [==============================] - 13s 42ms/step - loss: 1.4248 - accuracy: 0.5005 - val_loss: 1.4908 - val_accuracy: 0.4988\n",
            "Epoch 87/500\n",
            "313/313 [==============================] - 13s 42ms/step - loss: 1.4301 - accuracy: 0.4980 - val_loss: 1.5154 - val_accuracy: 0.4838\n",
            "Epoch 88/500\n",
            "313/313 [==============================] - 13s 42ms/step - loss: 1.4251 - accuracy: 0.5016 - val_loss: 1.5555 - val_accuracy: 0.4438\n",
            "Epoch 89/500\n",
            "313/313 [==============================] - 13s 41ms/step - loss: 1.4208 - accuracy: 0.4998 - val_loss: 1.4932 - val_accuracy: 0.4805\n",
            "Epoch 90/500\n",
            "313/313 [==============================] - 13s 42ms/step - loss: 1.4137 - accuracy: 0.5018 - val_loss: 1.5752 - val_accuracy: 0.4574\n",
            "Epoch 91/500\n",
            "313/313 [==============================] - 13s 42ms/step - loss: 1.4119 - accuracy: 0.5070 - val_loss: 1.4716 - val_accuracy: 0.4875\n",
            "Epoch 92/500\n",
            "313/313 [==============================] - 13s 42ms/step - loss: 1.4197 - accuracy: 0.5025 - val_loss: 1.5131 - val_accuracy: 0.4649\n",
            "Epoch 93/500\n",
            "313/313 [==============================] - 13s 42ms/step - loss: 1.4127 - accuracy: 0.5085 - val_loss: 1.5358 - val_accuracy: 0.4823\n",
            "Epoch 94/500\n",
            "313/313 [==============================] - 13s 42ms/step - loss: 1.4234 - accuracy: 0.5016 - val_loss: 1.5114 - val_accuracy: 0.4834\n",
            "Epoch 95/500\n",
            "313/313 [==============================] - 13s 42ms/step - loss: 1.4179 - accuracy: 0.5019 - val_loss: 1.5570 - val_accuracy: 0.4697\n",
            "Epoch 96/500\n",
            "313/313 [==============================] - 13s 42ms/step - loss: 1.4131 - accuracy: 0.5048 - val_loss: 1.5146 - val_accuracy: 0.4788\n",
            "Epoch 97/500\n",
            "313/313 [==============================] - 13s 42ms/step - loss: 1.3994 - accuracy: 0.5068 - val_loss: 1.4787 - val_accuracy: 0.4905\n",
            "Epoch 98/500\n",
            "313/313 [==============================] - 13s 42ms/step - loss: 1.4117 - accuracy: 0.5075 - val_loss: 1.5272 - val_accuracy: 0.4677\n",
            "Epoch 99/500\n",
            "313/313 [==============================] - 13s 42ms/step - loss: 1.4040 - accuracy: 0.5084 - val_loss: 1.5073 - val_accuracy: 0.4850\n",
            "Epoch 100/500\n",
            "313/313 [==============================] - 14s 44ms/step - loss: 1.4075 - accuracy: 0.5078 - val_loss: 1.5453 - val_accuracy: 0.4567\n",
            "Epoch 101/500\n",
            "313/313 [==============================] - 13s 42ms/step - loss: 1.3977 - accuracy: 0.5051 - val_loss: 1.5596 - val_accuracy: 0.4457\n",
            "Epoch 102/500\n",
            "313/313 [==============================] - 13s 42ms/step - loss: 1.3952 - accuracy: 0.5121 - val_loss: 1.5812 - val_accuracy: 0.4508\n",
            "Epoch 103/500\n",
            "313/313 [==============================] - 13s 42ms/step - loss: 1.4031 - accuracy: 0.5078 - val_loss: 1.5657 - val_accuracy: 0.4719\n",
            "Epoch 104/500\n",
            "313/313 [==============================] - 13s 42ms/step - loss: 1.4024 - accuracy: 0.5099 - val_loss: 1.5288 - val_accuracy: 0.4900\n",
            "Epoch 105/500\n",
            "313/313 [==============================] - 13s 42ms/step - loss: 1.4037 - accuracy: 0.5076 - val_loss: 1.5261 - val_accuracy: 0.4780\n",
            "Epoch 106/500\n",
            "313/313 [==============================] - 13s 43ms/step - loss: 1.3975 - accuracy: 0.5100 - val_loss: 1.5168 - val_accuracy: 0.4632\n",
            "Epoch 107/500\n",
            "313/313 [==============================] - 13s 42ms/step - loss: 1.3986 - accuracy: 0.5074 - val_loss: 1.5069 - val_accuracy: 0.4928\n",
            "Epoch 108/500\n",
            "313/313 [==============================] - 13s 42ms/step - loss: 1.3839 - accuracy: 0.5128 - val_loss: 1.4818 - val_accuracy: 0.4778\n",
            "Epoch 109/500\n",
            "313/313 [==============================] - 13s 42ms/step - loss: 1.3906 - accuracy: 0.5122 - val_loss: 1.5302 - val_accuracy: 0.4819\n",
            "Epoch 110/500\n",
            "313/313 [==============================] - 13s 42ms/step - loss: 1.3974 - accuracy: 0.5126 - val_loss: 1.5552 - val_accuracy: 0.4923\n",
            "Epoch 111/500\n",
            "313/313 [==============================] - 13s 42ms/step - loss: 1.3960 - accuracy: 0.5133 - val_loss: 1.5843 - val_accuracy: 0.4841\n",
            "Epoch 112/500\n",
            "313/313 [==============================] - 13s 42ms/step - loss: 1.3892 - accuracy: 0.5099 - val_loss: 1.4743 - val_accuracy: 0.4916\n",
            "Epoch 113/500\n",
            "313/313 [==============================] - 13s 42ms/step - loss: 1.3923 - accuracy: 0.5113 - val_loss: 1.5387 - val_accuracy: 0.4891\n",
            "Epoch 114/500\n",
            "313/313 [==============================] - 13s 42ms/step - loss: 1.3961 - accuracy: 0.5105 - val_loss: 1.5552 - val_accuracy: 0.4667\n",
            "Epoch 115/500\n",
            "313/313 [==============================] - 13s 42ms/step - loss: 1.3871 - accuracy: 0.5136 - val_loss: 1.5412 - val_accuracy: 0.4605\n",
            "Epoch 116/500\n",
            "313/313 [==============================] - 13s 42ms/step - loss: 1.3935 - accuracy: 0.5135 - val_loss: 1.5461 - val_accuracy: 0.4625\n",
            "Epoch 117/500\n",
            "313/313 [==============================] - 13s 42ms/step - loss: 1.3932 - accuracy: 0.5114 - val_loss: 1.5274 - val_accuracy: 0.4734\n",
            "Epoch 118/500\n",
            "313/313 [==============================] - 14s 44ms/step - loss: 1.3870 - accuracy: 0.5148 - val_loss: 1.5290 - val_accuracy: 0.4800\n",
            "Epoch 119/500\n",
            "313/313 [==============================] - 13s 43ms/step - loss: 1.3850 - accuracy: 0.5130 - val_loss: 1.5371 - val_accuracy: 0.4605\n",
            "Epoch 120/500\n",
            "313/313 [==============================] - 13s 42ms/step - loss: 1.3878 - accuracy: 0.5143 - val_loss: 1.5320 - val_accuracy: 0.4904\n",
            "Epoch 121/500\n",
            "313/313 [==============================] - 13s 43ms/step - loss: 1.3859 - accuracy: 0.5160 - val_loss: 1.5140 - val_accuracy: 0.4710\n",
            "Epoch 122/500\n",
            "313/313 [==============================] - 13s 43ms/step - loss: 1.3823 - accuracy: 0.5140 - val_loss: 1.5538 - val_accuracy: 0.4945\n",
            "Epoch 123/500\n",
            "313/313 [==============================] - 13s 43ms/step - loss: 1.3795 - accuracy: 0.5164 - val_loss: 1.5299 - val_accuracy: 0.4729\n",
            "Epoch 124/500\n",
            "313/313 [==============================] - 14s 43ms/step - loss: 1.3810 - accuracy: 0.5178 - val_loss: 1.5201 - val_accuracy: 0.4946\n",
            "Epoch 125/500\n",
            "313/313 [==============================] - 13s 43ms/step - loss: 1.3793 - accuracy: 0.5171 - val_loss: 1.5237 - val_accuracy: 0.4546\n",
            "Epoch 126/500\n",
            "313/313 [==============================] - 14s 45ms/step - loss: 1.3756 - accuracy: 0.5143 - val_loss: 1.5958 - val_accuracy: 0.4921\n",
            "Epoch 127/500\n",
            "313/313 [==============================] - 14s 44ms/step - loss: 1.3791 - accuracy: 0.5189 - val_loss: 1.5036 - val_accuracy: 0.4765\n",
            "Epoch 128/500\n",
            "313/313 [==============================] - 14s 45ms/step - loss: 1.3752 - accuracy: 0.5181 - val_loss: 1.4947 - val_accuracy: 0.4848\n",
            "Epoch 129/500\n",
            "313/313 [==============================] - 14s 44ms/step - loss: 1.3776 - accuracy: 0.5204 - val_loss: 1.5018 - val_accuracy: 0.4980\n",
            "Epoch 130/500\n",
            "313/313 [==============================] - 14s 44ms/step - loss: 1.3678 - accuracy: 0.5222 - val_loss: 1.5410 - val_accuracy: 0.4691\n",
            "Epoch 131/500\n",
            "313/313 [==============================] - 14s 44ms/step - loss: 1.3767 - accuracy: 0.5177 - val_loss: 1.4625 - val_accuracy: 0.4990\n",
            "Epoch 132/500\n",
            "313/313 [==============================] - 14s 43ms/step - loss: 1.3735 - accuracy: 0.5188 - val_loss: 1.5376 - val_accuracy: 0.4787\n",
            "Epoch 133/500\n",
            "313/313 [==============================] - 13s 43ms/step - loss: 1.3743 - accuracy: 0.5199 - val_loss: 1.4899 - val_accuracy: 0.4889\n",
            "Epoch 134/500\n",
            "313/313 [==============================] - 13s 43ms/step - loss: 1.3763 - accuracy: 0.5192 - val_loss: 1.6236 - val_accuracy: 0.4544\n",
            "Epoch 135/500\n",
            "313/313 [==============================] - 13s 42ms/step - loss: 1.3627 - accuracy: 0.5225 - val_loss: 1.5497 - val_accuracy: 0.4743\n",
            "Epoch 136/500\n",
            "313/313 [==============================] - 13s 42ms/step - loss: 1.3764 - accuracy: 0.5210 - val_loss: 1.5732 - val_accuracy: 0.4955\n",
            "Epoch 137/500\n",
            "313/313 [==============================] - 13s 42ms/step - loss: 1.3719 - accuracy: 0.5199 - val_loss: 1.6644 - val_accuracy: 0.4310\n",
            "Epoch 138/500\n",
            "313/313 [==============================] - 13s 43ms/step - loss: 1.3715 - accuracy: 0.5226 - val_loss: 1.5210 - val_accuracy: 0.4777\n",
            "Epoch 139/500\n",
            "313/313 [==============================] - 13s 43ms/step - loss: 1.3656 - accuracy: 0.5222 - val_loss: 1.5803 - val_accuracy: 0.4792\n",
            "Epoch 140/500\n",
            "313/313 [==============================] - 14s 44ms/step - loss: 1.3657 - accuracy: 0.5228 - val_loss: 1.5220 - val_accuracy: 0.4819\n",
            "Epoch 141/500\n",
            "313/313 [==============================] - 13s 42ms/step - loss: 1.3679 - accuracy: 0.5255 - val_loss: 1.5354 - val_accuracy: 0.4714\n",
            "Epoch 142/500\n",
            "313/313 [==============================] - 13s 43ms/step - loss: 1.3676 - accuracy: 0.5218 - val_loss: 1.5663 - val_accuracy: 0.4844\n",
            "Epoch 143/500\n",
            "313/313 [==============================] - 13s 43ms/step - loss: 1.3818 - accuracy: 0.5224 - val_loss: 1.5922 - val_accuracy: 0.4934\n",
            "Epoch 144/500\n",
            "313/313 [==============================] - 14s 43ms/step - loss: 1.3646 - accuracy: 0.5228 - val_loss: 1.5725 - val_accuracy: 0.4757\n",
            "Epoch 145/500\n",
            "313/313 [==============================] - 14s 44ms/step - loss: 1.3661 - accuracy: 0.5211 - val_loss: 1.5372 - val_accuracy: 0.4774\n",
            "Epoch 146/500\n",
            "313/313 [==============================] - 13s 43ms/step - loss: 1.3734 - accuracy: 0.5230 - val_loss: 1.6254 - val_accuracy: 0.4648\n",
            "Epoch 147/500\n",
            "313/313 [==============================] - 13s 43ms/step - loss: 1.3607 - accuracy: 0.5228 - val_loss: 1.5151 - val_accuracy: 0.4965\n",
            "Epoch 148/500\n",
            "313/313 [==============================] - 14s 44ms/step - loss: 1.3615 - accuracy: 0.5247 - val_loss: 1.5176 - val_accuracy: 0.4737\n",
            "Epoch 149/500\n",
            "313/313 [==============================] - 14s 43ms/step - loss: 1.3524 - accuracy: 0.5258 - val_loss: 1.5310 - val_accuracy: 0.4691\n",
            "Epoch 150/500\n",
            "313/313 [==============================] - 14s 43ms/step - loss: 1.3538 - accuracy: 0.5274 - val_loss: 1.4817 - val_accuracy: 0.4943\n",
            "Epoch 151/500\n",
            "313/313 [==============================] - 13s 43ms/step - loss: 1.3695 - accuracy: 0.5240 - val_loss: 1.5192 - val_accuracy: 0.4786\n",
            "Epoch 152/500\n",
            "313/313 [==============================] - 14s 43ms/step - loss: 1.3644 - accuracy: 0.5227 - val_loss: 1.6164 - val_accuracy: 0.4854\n",
            "Epoch 153/500\n",
            "313/313 [==============================] - 14s 44ms/step - loss: 1.3655 - accuracy: 0.5239 - val_loss: 1.5665 - val_accuracy: 0.4866\n",
            "Epoch 154/500\n",
            "313/313 [==============================] - 14s 44ms/step - loss: 1.3575 - accuracy: 0.5271 - val_loss: 1.6427 - val_accuracy: 0.4520\n",
            "Epoch 155/500\n",
            "313/313 [==============================] - 14s 44ms/step - loss: 1.3589 - accuracy: 0.5271 - val_loss: 1.5627 - val_accuracy: 0.4731\n",
            "Epoch 156/500\n",
            "313/313 [==============================] - 14s 43ms/step - loss: 1.3697 - accuracy: 0.5224 - val_loss: 1.5862 - val_accuracy: 0.4680\n",
            "Epoch 157/500\n",
            "313/313 [==============================] - 14s 44ms/step - loss: 1.3639 - accuracy: 0.5257 - val_loss: 1.5071 - val_accuracy: 0.4977\n",
            "Epoch 158/500\n",
            "313/313 [==============================] - 14s 44ms/step - loss: 1.3581 - accuracy: 0.5273 - val_loss: 1.5708 - val_accuracy: 0.4809\n",
            "Epoch 159/500\n",
            "313/313 [==============================] - 13s 43ms/step - loss: 1.3604 - accuracy: 0.5232 - val_loss: 1.5618 - val_accuracy: 0.4826\n",
            "Epoch 160/500\n",
            "313/313 [==============================] - 13s 42ms/step - loss: 1.3608 - accuracy: 0.5240 - val_loss: 1.6135 - val_accuracy: 0.4815\n",
            "Epoch 161/500\n",
            "313/313 [==============================] - 13s 43ms/step - loss: 1.3577 - accuracy: 0.5286 - val_loss: 1.5783 - val_accuracy: 0.4585\n",
            "Epoch 162/500\n",
            "313/313 [==============================] - 13s 43ms/step - loss: 1.3569 - accuracy: 0.5257 - val_loss: 1.5840 - val_accuracy: 0.4849\n",
            "Epoch 163/500\n",
            "313/313 [==============================] - 14s 43ms/step - loss: 1.3543 - accuracy: 0.5275 - val_loss: 1.5922 - val_accuracy: 0.4719\n",
            "Epoch 164/500\n",
            "313/313 [==============================] - 14s 43ms/step - loss: 1.3559 - accuracy: 0.5260 - val_loss: 1.6166 - val_accuracy: 0.4812\n",
            "Epoch 165/500\n",
            "313/313 [==============================] - 14s 43ms/step - loss: 1.3646 - accuracy: 0.5229 - val_loss: 1.5728 - val_accuracy: 0.4872\n",
            "Epoch 166/500\n",
            "313/313 [==============================] - 14s 43ms/step - loss: 1.3547 - accuracy: 0.5262 - val_loss: 1.6375 - val_accuracy: 0.4857\n",
            "Epoch 167/500\n",
            "313/313 [==============================] - 14s 44ms/step - loss: 1.3540 - accuracy: 0.5309 - val_loss: 1.5838 - val_accuracy: 0.4676\n",
            "Epoch 168/500\n",
            "313/313 [==============================] - 14s 43ms/step - loss: 1.3588 - accuracy: 0.5312 - val_loss: 1.5595 - val_accuracy: 0.4864\n",
            "Epoch 169/500\n",
            "313/313 [==============================] - 14s 43ms/step - loss: 1.3499 - accuracy: 0.5290 - val_loss: 1.5689 - val_accuracy: 0.4748\n",
            "Epoch 170/500\n",
            "313/313 [==============================] - 14s 43ms/step - loss: 1.3469 - accuracy: 0.5304 - val_loss: 1.5730 - val_accuracy: 0.4682\n",
            "Epoch 171/500\n",
            "313/313 [==============================] - 13s 43ms/step - loss: 1.3435 - accuracy: 0.5325 - val_loss: 1.6903 - val_accuracy: 0.4124\n",
            "Epoch 172/500\n",
            "313/313 [==============================] - 13s 43ms/step - loss: 1.3565 - accuracy: 0.5260 - val_loss: 1.6650 - val_accuracy: 0.4788\n",
            "Epoch 173/500\n",
            "313/313 [==============================] - 14s 43ms/step - loss: 1.3496 - accuracy: 0.5308 - val_loss: 1.5499 - val_accuracy: 0.4803\n",
            "Epoch 174/500\n",
            "313/313 [==============================] - 13s 43ms/step - loss: 1.3534 - accuracy: 0.5266 - val_loss: 1.5782 - val_accuracy: 0.4468\n",
            "Epoch 175/500\n",
            "313/313 [==============================] - 14s 43ms/step - loss: 1.3439 - accuracy: 0.5326 - val_loss: 1.6790 - val_accuracy: 0.4802\n",
            "Epoch 176/500\n",
            "313/313 [==============================] - 13s 43ms/step - loss: 1.3396 - accuracy: 0.5310 - val_loss: 1.5758 - val_accuracy: 0.4681\n",
            "Epoch 177/500\n",
            "313/313 [==============================] - 13s 42ms/step - loss: 1.3438 - accuracy: 0.5322 - val_loss: 1.5617 - val_accuracy: 0.4762\n",
            "Epoch 178/500\n",
            "313/313 [==============================] - 14s 43ms/step - loss: 1.3424 - accuracy: 0.5332 - val_loss: 1.5756 - val_accuracy: 0.4709\n",
            "Epoch 179/500\n",
            "313/313 [==============================] - 13s 43ms/step - loss: 1.3491 - accuracy: 0.5307 - val_loss: 1.5825 - val_accuracy: 0.4611\n",
            "Epoch 180/500\n",
            "313/313 [==============================] - 13s 43ms/step - loss: 1.3324 - accuracy: 0.5324 - val_loss: 1.7104 - val_accuracy: 0.5021\n",
            "Epoch 181/500\n",
            "313/313 [==============================] - 13s 43ms/step - loss: 1.3408 - accuracy: 0.5321 - val_loss: 1.5702 - val_accuracy: 0.4757\n",
            "Epoch 182/500\n",
            "313/313 [==============================] - 13s 43ms/step - loss: 1.3355 - accuracy: 0.5351 - val_loss: 1.6160 - val_accuracy: 0.4660\n",
            "Epoch 183/500\n",
            "313/313 [==============================] - 13s 43ms/step - loss: 1.3486 - accuracy: 0.5326 - val_loss: 1.5776 - val_accuracy: 0.4773\n",
            "Epoch 184/500\n",
            "313/313 [==============================] - 14s 43ms/step - loss: 1.3468 - accuracy: 0.5335 - val_loss: 1.5845 - val_accuracy: 0.4935\n",
            "Epoch 185/500\n",
            "313/313 [==============================] - 13s 43ms/step - loss: 1.3313 - accuracy: 0.5355 - val_loss: 1.6274 - val_accuracy: 0.4930\n",
            "Epoch 186/500\n",
            "313/313 [==============================] - 13s 43ms/step - loss: 1.3446 - accuracy: 0.5324 - val_loss: 1.5242 - val_accuracy: 0.4704\n",
            "Epoch 187/500\n",
            "313/313 [==============================] - 14s 46ms/step - loss: 1.3303 - accuracy: 0.5339 - val_loss: 1.6528 - val_accuracy: 0.4796\n",
            "Epoch 188/500\n",
            "313/313 [==============================] - 14s 46ms/step - loss: 1.3256 - accuracy: 0.5350 - val_loss: 1.6113 - val_accuracy: 0.4986\n",
            "Epoch 189/500\n",
            "313/313 [==============================] - 14s 44ms/step - loss: 1.3395 - accuracy: 0.5331 - val_loss: 1.7503 - val_accuracy: 0.4722\n",
            "Epoch 190/500\n",
            "313/313 [==============================] - 13s 43ms/step - loss: 1.3305 - accuracy: 0.5353 - val_loss: 1.8281 - val_accuracy: 0.4668\n",
            "Epoch 191/500\n",
            "313/313 [==============================] - 13s 43ms/step - loss: 1.3361 - accuracy: 0.5349 - val_loss: 1.7376 - val_accuracy: 0.4372\n",
            "Epoch 192/500\n",
            "313/313 [==============================] - 13s 43ms/step - loss: 1.3354 - accuracy: 0.5367 - val_loss: 1.6143 - val_accuracy: 0.4972\n",
            "Epoch 193/500\n",
            "313/313 [==============================] - 14s 44ms/step - loss: 1.3474 - accuracy: 0.5330 - val_loss: 1.5525 - val_accuracy: 0.4824\n",
            "Epoch 194/500\n",
            "313/313 [==============================] - 14s 44ms/step - loss: 1.3469 - accuracy: 0.5321 - val_loss: 1.5696 - val_accuracy: 0.4862\n",
            "Epoch 195/500\n",
            "313/313 [==============================] - 14s 44ms/step - loss: 1.3464 - accuracy: 0.5311 - val_loss: 1.6193 - val_accuracy: 0.4698\n",
            "Epoch 196/500\n",
            "313/313 [==============================] - 13s 43ms/step - loss: 1.3349 - accuracy: 0.5372 - val_loss: 1.7041 - val_accuracy: 0.4724\n",
            "Epoch 197/500\n",
            "313/313 [==============================] - 14s 43ms/step - loss: 1.3412 - accuracy: 0.5338 - val_loss: 1.5813 - val_accuracy: 0.4828\n",
            "Epoch 198/500\n",
            "313/313 [==============================] - 14s 44ms/step - loss: 1.3390 - accuracy: 0.5366 - val_loss: 1.5981 - val_accuracy: 0.4976\n",
            "Epoch 199/500\n",
            "313/313 [==============================] - 14s 44ms/step - loss: 1.3399 - accuracy: 0.5358 - val_loss: 1.6286 - val_accuracy: 0.4908\n",
            "Epoch 200/500\n",
            "313/313 [==============================] - 14s 44ms/step - loss: 1.3302 - accuracy: 0.5388 - val_loss: 1.5983 - val_accuracy: 0.4743\n",
            "Epoch 201/500\n",
            "313/313 [==============================] - 14s 43ms/step - loss: 1.3494 - accuracy: 0.5354 - val_loss: 1.7233 - val_accuracy: 0.4886\n"
          ]
        }
      ]
    },
    {
      "cell_type": "code",
      "source": [
        "#đánh giá mô hình\n",
        "score = model.evaluate(x_test,y_test,verbose=0)\n",
        "print('Sai số kiểm tra là: ',score[0])\n",
        "print('Độ chính xác kiểm tra là: ',score[1])"
      ],
      "metadata": {
        "colab": {
          "base_uri": "https://localhost:8080/"
        },
        "id": "yJIaJ3Q_eP59",
        "outputId": "406ab091-d559-4855-d4b0-11023d687f25"
      },
      "execution_count": null,
      "outputs": [
        {
          "output_type": "stream",
          "name": "stdout",
          "text": [
            "Sai số kiểm tra là:  1.7539557218551636\n",
            "Độ chính xác kiểm tra là:  0.4848000109195709\n"
          ]
        }
      ]
    },
    {
      "cell_type": "code",
      "source": [
        "# vẽ lại quá trình học\n",
        "plt.plot(history.history['accuracy'])\n",
        "plt.plot(history.history['val_accuracy'])\n",
        "plt.title('model accuracy')\n",
        "plt.ylabel('accuracy')\n",
        "plt.xlabel('epochs')\n",
        "plt.legend(['train','Validation'])\n",
        "plt.show()"
      ],
      "metadata": {
        "colab": {
          "base_uri": "https://localhost:8080/",
          "height": 295
        },
        "id": "yuBmXxVwxEoq",
        "outputId": "9459e857-1bba-4887-edc2-a6262e37814f"
      },
      "execution_count": null,
      "outputs": [
        {
          "output_type": "display_data",
          "data": {
            "text/plain": [
              "<Figure size 432x288 with 1 Axes>"
            ],
            "image/png": "[encoded data removed]"
          },
          "metadata": {
            "needs_background": "light"
          }
        }
      ]
    },
    {
      "cell_type": "code",
      "source": [
        ""
      ],
      "metadata": {
        "id": "Eu_JG2GoxGf-"
      },
      "execution_count": null,
      "outputs": []
    }
  ]
}