{
  "nbformat": 4,
  "nbformat_minor": 0,
  "metadata": {
    "colab": {
      "name": "FASHION MNIST.ipynb",
      "provenance": [],
      "authorship_tag": "ABX9TyMUOujDWDJ6vSMdbIUg0roX",
      "include_colab_link": true
    },
    "kernelspec": {
      "name": "python3",
      "display_name": "Python 3"
    },
    "language_info": {
      "name": "python"
    }
  },
  "cells": [
    {
      "cell_type": "markdown",
      "metadata": {
        "id": "view-in-github",
        "colab_type": "text"
      },
      "source": [
        "<a href=\"https://colab.research.google.com/github/HaHuyHoang19146188/BAII-TAP-AI/blob/main/FASHION_MNIST.ipynb\" target=\"_parent\"><img src=\"https://colab.research.google.com/assets/colab-badge.svg\" alt=\"Open In Colab\"/></a>"
      ]
    },
    {
      "cell_type": "code",
      "execution_count": null,
      "metadata": {
        "id": "kaemo4Y0XQK9"
      },
      "outputs": [],
      "source": [
        "#import thư viện\n",
        "import numpy as np\n",
        "import pandas as pd\n",
        "from keras.datasets import fashion_mnist\n",
        "import matplotlib.pyplot as plt\n",
        "from keras.utils import np_utils\n",
        "from keras.models import Sequential\n",
        "from keras.layers import Dense, Dropout\n",
        "from tensorflow.keras.optimizers import RMSprop\n",
        "from keras.callbacks import EarlyStopping\n",
        "from keras.backend import dropout"
      ]
    },
    {
      "cell_type": "code",
      "source": [
        "#chia tập dữ liệu thành 2 tập train và test\n",
        "(x_train, y_train),(x_test,y_test) = fashion_mnist.load_data()"
      ],
      "metadata": {
        "colab": {
          "base_uri": "https://localhost:8080/"
        },
        "id": "akOh12PeXd6H",
        "outputId": "8d41500e-8014-4839-e002-e11d03ac7dd1"
      },
      "execution_count": null,
      "outputs": [
        {
          "output_type": "stream",
          "name": "stdout",
          "text": [
            "Downloading data from https://storage.googleapis.com/tensorflow/tf-keras-datasets/train-labels-idx1-ubyte.gz\n",
            "32768/29515 [=================================] - 0s 0us/step\n",
            "40960/29515 [=========================================] - 0s 0us/step\n",
            "Downloading data from https://storage.googleapis.com/tensorflow/tf-keras-datasets/train-images-idx3-ubyte.gz\n",
            "26427392/26421880 [==============================] - 0s 0us/step\n",
            "26435584/26421880 [==============================] - 0s 0us/step\n",
            "Downloading data from https://storage.googleapis.com/tensorflow/tf-keras-datasets/t10k-labels-idx1-ubyte.gz\n",
            "16384/5148 [===============================================================================================] - 0s 0us/step\n",
            "Downloading data from https://storage.googleapis.com/tensorflow/tf-keras-datasets/t10k-images-idx3-ubyte.gz\n",
            "4423680/4422102 [==============================] - 0s 0us/step\n",
            "4431872/4422102 [==============================] - 0s 0us/step\n"
          ]
        }
      ]
    },
    {
      "cell_type": "code",
      "source": [
        "#quan sát bộ data\n",
        "x_train.shape"
      ],
      "metadata": {
        "colab": {
          "base_uri": "https://localhost:8080/"
        },
        "id": "Fzn3IrVqXml9",
        "outputId": "3401c4af-fbdb-4aa3-8d67-e9e31357eaaa"
      },
      "execution_count": null,
      "outputs": [
        {
          "output_type": "execute_result",
          "data": {
            "text/plain": [
              "(60000, 28, 28)"
            ]
          },
          "metadata": {},
          "execution_count": 3
        }
      ]
    },
    {
      "cell_type": "code",
      "source": [
        "y_train.shape"
      ],
      "metadata": {
        "colab": {
          "base_uri": "https://localhost:8080/"
        },
        "id": "4nf5t_Q8XoCZ",
        "outputId": "62070183-9059-498b-b16d-0383faac0b0c"
      },
      "execution_count": null,
      "outputs": [
        {
          "output_type": "execute_result",
          "data": {
            "text/plain": [
              "(60000,)"
            ]
          },
          "metadata": {},
          "execution_count": 4
        }
      ]
    },
    {
      "cell_type": "code",
      "source": [
        "x_test.shape"
      ],
      "metadata": {
        "colab": {
          "base_uri": "https://localhost:8080/"
        },
        "id": "VKnTUHPHXpSo",
        "outputId": "83b71c14-695b-4dd1-b8e8-458c83890291"
      },
      "execution_count": null,
      "outputs": [
        {
          "output_type": "execute_result",
          "data": {
            "text/plain": [
              "(10000, 28, 28)"
            ]
          },
          "metadata": {},
          "execution_count": 5
        }
      ]
    },
    {
      "cell_type": "code",
      "source": [
        "y_test.shape"
      ],
      "metadata": {
        "colab": {
          "base_uri": "https://localhost:8080/"
        },
        "id": "bsKFmkcZXqsC",
        "outputId": "67d22255-4154-4722-a1fc-f5fbeaea3fd8"
      },
      "execution_count": null,
      "outputs": [
        {
          "output_type": "execute_result",
          "data": {
            "text/plain": [
              "(10000,)"
            ]
          },
          "metadata": {},
          "execution_count": 6
        }
      ]
    },
    {
      "cell_type": "code",
      "source": [
        "#chuyển x_train,x_test từ 3 chiều thành 2 chiều\n",
        "x_train = x_train.reshape(60000,784)\n",
        "x_test = x_test.reshape(10000,784)\n",
        "#chuyển y từ 1 class thành 10 class\n",
        "y_train = np_utils.to_categorical(y_train,10)\n",
        "y_test = np_utils.to_categorical(y_test,10)"
      ],
      "metadata": {
        "id": "VwRguU3IXryx"
      },
      "execution_count": null,
      "outputs": []
    },
    {
      "cell_type": "code",
      "source": [
        "#chuẩn hóa dữ liệu đầu vào\n",
        "x_train = x_train.astype('float32')\n",
        "x_test = x_test.astype('float32')\n",
        "x_train /=255\n",
        "x_test /=255\n"
      ],
      "metadata": {
        "id": "9Z5dFEXzXukC"
      },
      "execution_count": null,
      "outputs": []
    },
    {
      "cell_type": "code",
      "source": [
        "#tạo mạng noron\n",
        "model = Sequential()\n",
        "model.add(Dense(512,activation='relu',input_shape=(784,)))\n",
        "model.add(Dropout(0.2))\n",
        "model.add(Dense(512,activation='relu'))\n",
        "model.add(Dropout(0.2))\n",
        "model.add(Dense(10,activation='softmax'))\n",
        "model.summary()"
      ],
      "metadata": {
        "colab": {
          "base_uri": "https://localhost:8080/"
        },
        "id": "L9xrsROOXw-_",
        "outputId": "6bcf6251-758a-4eb0-d279-b053ce7ad2c8"
      },
      "execution_count": null,
      "outputs": [
        {
          "output_type": "stream",
          "name": "stdout",
          "text": [
            "Model: \"sequential\"\n",
            "_________________________________________________________________\n",
            " Layer (type)                Output Shape              Param #   \n",
            "=================================================================\n",
            " dense (Dense)               (None, 512)               401920    \n",
            "                                                                 \n",
            " dropout (Dropout)           (None, 512)               0         \n",
            "                                                                 \n",
            " dense_1 (Dense)             (None, 512)               262656    \n",
            "                                                                 \n",
            " dropout_1 (Dropout)         (None, 512)               0         \n",
            "                                                                 \n",
            " dense_2 (Dense)             (None, 10)                5130      \n",
            "                                                                 \n",
            "=================================================================\n",
            "Total params: 669,706\n",
            "Trainable params: 669,706\n",
            "Non-trainable params: 0\n",
            "_________________________________________________________________\n"
          ]
        }
      ]
    },
    {
      "cell_type": "code",
      "source": [
        "#chạy mạng noron\n",
        "model.compile(loss='categorical_crossentropy',optimizer=RMSprop(), metrics=['accuracy'])\n",
        "model.compile(loss='categorical_crossentropy',optimizer=RMSprop(), metrics=['accuracy'])\n",
        "from keras.callbacks import EarlyStopping\n",
        "history = model.fit(x_train,y_train,batch_size=128,epochs=500,verbose=1,\n",
        "                    validation_split=0.2,callbacks=[EarlyStopping(monitor='val_loss',patience=70)])"
      ],
      "metadata": {
        "colab": {
          "base_uri": "https://localhost:8080/"
        },
        "id": "63kSolFNYMaW",
        "outputId": "544930de-bdbf-4a03-f428-d0ca99e24968"
      },
      "execution_count": null,
      "outputs": [
        {
          "output_type": "stream",
          "name": "stdout",
          "text": [
            "Epoch 1/500\n",
            "375/375 [==============================] - 5s 13ms/step - loss: 0.2246 - accuracy: 0.9242 - val_loss: 0.5508 - val_accuracy: 0.8943\n",
            "Epoch 2/500\n",
            "375/375 [==============================] - 5s 12ms/step - loss: 0.2182 - accuracy: 0.9247 - val_loss: 0.6375 - val_accuracy: 0.8902\n",
            "Epoch 3/500\n",
            "375/375 [==============================] - 5s 12ms/step - loss: 0.2173 - accuracy: 0.9277 - val_loss: 0.6386 - val_accuracy: 0.8957\n",
            "Epoch 4/500\n",
            "375/375 [==============================] - 5s 13ms/step - loss: 0.2127 - accuracy: 0.9266 - val_loss: 0.5940 - val_accuracy: 0.8907\n",
            "Epoch 5/500\n",
            "375/375 [==============================] - 5s 12ms/step - loss: 0.2143 - accuracy: 0.9270 - val_loss: 0.5847 - val_accuracy: 0.8942\n",
            "Epoch 6/500\n",
            "375/375 [==============================] - 5s 12ms/step - loss: 0.2052 - accuracy: 0.9289 - val_loss: 0.6318 - val_accuracy: 0.8909\n",
            "Epoch 7/500\n",
            "375/375 [==============================] - 5s 13ms/step - loss: 0.2098 - accuracy: 0.9272 - val_loss: 0.6771 - val_accuracy: 0.8907\n",
            "Epoch 8/500\n",
            "375/375 [==============================] - 5s 13ms/step - loss: 0.2155 - accuracy: 0.9290 - val_loss: 0.6107 - val_accuracy: 0.8953\n",
            "Epoch 9/500\n",
            "375/375 [==============================] - 5s 13ms/step - loss: 0.2096 - accuracy: 0.9282 - val_loss: 0.5922 - val_accuracy: 0.8968\n",
            "Epoch 10/500\n",
            "375/375 [==============================] - 5s 13ms/step - loss: 0.2135 - accuracy: 0.9288 - val_loss: 0.5675 - val_accuracy: 0.8933\n",
            "Epoch 11/500\n",
            "375/375 [==============================] - 5s 13ms/step - loss: 0.2037 - accuracy: 0.9314 - val_loss: 0.6021 - val_accuracy: 0.8990\n",
            "Epoch 12/500\n",
            "375/375 [==============================] - 5s 12ms/step - loss: 0.2042 - accuracy: 0.9306 - val_loss: 0.6508 - val_accuracy: 0.8959\n",
            "Epoch 13/500\n",
            "375/375 [==============================] - 5s 12ms/step - loss: 0.2035 - accuracy: 0.9326 - val_loss: 0.5958 - val_accuracy: 0.8943\n",
            "Epoch 14/500\n",
            "375/375 [==============================] - 5s 12ms/step - loss: 0.2037 - accuracy: 0.9318 - val_loss: 0.6154 - val_accuracy: 0.8920\n",
            "Epoch 15/500\n",
            "375/375 [==============================] - 5s 12ms/step - loss: 0.2001 - accuracy: 0.9325 - val_loss: 0.6823 - val_accuracy: 0.8942\n",
            "Epoch 16/500\n",
            "375/375 [==============================] - 5s 13ms/step - loss: 0.2021 - accuracy: 0.9325 - val_loss: 0.6801 - val_accuracy: 0.8981\n",
            "Epoch 17/500\n",
            "375/375 [==============================] - 5s 13ms/step - loss: 0.2014 - accuracy: 0.9315 - val_loss: 0.6667 - val_accuracy: 0.8942\n",
            "Epoch 18/500\n",
            "375/375 [==============================] - 5s 12ms/step - loss: 0.2036 - accuracy: 0.9317 - val_loss: 0.6623 - val_accuracy: 0.8985\n",
            "Epoch 19/500\n",
            "375/375 [==============================] - 5s 14ms/step - loss: 0.1957 - accuracy: 0.9334 - val_loss: 0.6149 - val_accuracy: 0.8998\n",
            "Epoch 20/500\n",
            "375/375 [==============================] - 5s 12ms/step - loss: 0.1964 - accuracy: 0.9352 - val_loss: 0.6431 - val_accuracy: 0.8947\n",
            "Epoch 21/500\n",
            "375/375 [==============================] - 5s 13ms/step - loss: 0.2015 - accuracy: 0.9331 - val_loss: 0.7207 - val_accuracy: 0.8949\n",
            "Epoch 22/500\n",
            "375/375 [==============================] - 5s 13ms/step - loss: 0.1961 - accuracy: 0.9341 - val_loss: 0.7387 - val_accuracy: 0.8953\n",
            "Epoch 23/500\n",
            "375/375 [==============================] - 5s 13ms/step - loss: 0.1959 - accuracy: 0.9353 - val_loss: 0.7345 - val_accuracy: 0.8928\n",
            "Epoch 24/500\n",
            "375/375 [==============================] - 5s 12ms/step - loss: 0.1938 - accuracy: 0.9354 - val_loss: 0.6142 - val_accuracy: 0.8972\n",
            "Epoch 25/500\n",
            "375/375 [==============================] - 5s 13ms/step - loss: 0.1838 - accuracy: 0.9379 - val_loss: 0.7922 - val_accuracy: 0.8797\n",
            "Epoch 26/500\n",
            "375/375 [==============================] - 5s 13ms/step - loss: 0.1925 - accuracy: 0.9356 - val_loss: 0.6896 - val_accuracy: 0.8997\n",
            "Epoch 27/500\n",
            "375/375 [==============================] - 5s 12ms/step - loss: 0.1906 - accuracy: 0.9370 - val_loss: 0.7782 - val_accuracy: 0.8962\n",
            "Epoch 28/500\n",
            "375/375 [==============================] - 5s 12ms/step - loss: 0.1907 - accuracy: 0.9373 - val_loss: 0.7275 - val_accuracy: 0.8968\n",
            "Epoch 29/500\n",
            "375/375 [==============================] - 5s 13ms/step - loss: 0.1905 - accuracy: 0.9378 - val_loss: 0.7284 - val_accuracy: 0.8971\n",
            "Epoch 30/500\n",
            "375/375 [==============================] - 5s 12ms/step - loss: 0.1868 - accuracy: 0.9383 - val_loss: 0.7644 - val_accuracy: 0.8976\n",
            "Epoch 31/500\n",
            "375/375 [==============================] - 5s 13ms/step - loss: 0.1780 - accuracy: 0.9390 - val_loss: 0.8012 - val_accuracy: 0.8881\n",
            "Epoch 32/500\n",
            "375/375 [==============================] - 5s 13ms/step - loss: 0.1874 - accuracy: 0.9378 - val_loss: 0.8272 - val_accuracy: 0.8889\n",
            "Epoch 33/500\n",
            "375/375 [==============================] - 5s 13ms/step - loss: 0.1871 - accuracy: 0.9395 - val_loss: 0.7124 - val_accuracy: 0.8949\n",
            "Epoch 34/500\n",
            "375/375 [==============================] - 5s 13ms/step - loss: 0.1874 - accuracy: 0.9392 - val_loss: 0.7578 - val_accuracy: 0.8947\n",
            "Epoch 35/500\n",
            "375/375 [==============================] - 5s 12ms/step - loss: 0.1900 - accuracy: 0.9390 - val_loss: 0.7093 - val_accuracy: 0.8908\n",
            "Epoch 36/500\n",
            "375/375 [==============================] - 5s 12ms/step - loss: 0.1808 - accuracy: 0.9398 - val_loss: 0.8284 - val_accuracy: 0.8951\n",
            "Epoch 37/500\n",
            "375/375 [==============================] - 5s 13ms/step - loss: 0.1791 - accuracy: 0.9402 - val_loss: 0.8118 - val_accuracy: 0.8932\n",
            "Epoch 38/500\n",
            "375/375 [==============================] - 5s 13ms/step - loss: 0.1816 - accuracy: 0.9400 - val_loss: 0.8943 - val_accuracy: 0.8930\n",
            "Epoch 39/500\n",
            "375/375 [==============================] - 5s 13ms/step - loss: 0.1814 - accuracy: 0.9415 - val_loss: 0.9344 - val_accuracy: 0.8917\n",
            "Epoch 40/500\n",
            "375/375 [==============================] - 5s 13ms/step - loss: 0.1808 - accuracy: 0.9414 - val_loss: 0.8933 - val_accuracy: 0.8826\n",
            "Epoch 41/500\n",
            "375/375 [==============================] - 5s 13ms/step - loss: 0.1928 - accuracy: 0.9405 - val_loss: 0.8414 - val_accuracy: 0.8944\n",
            "Epoch 42/500\n",
            "375/375 [==============================] - 5s 13ms/step - loss: 0.1806 - accuracy: 0.9419 - val_loss: 0.7804 - val_accuracy: 0.8958\n",
            "Epoch 43/500\n",
            "375/375 [==============================] - 5s 13ms/step - loss: 0.1778 - accuracy: 0.9416 - val_loss: 0.8535 - val_accuracy: 0.8973\n",
            "Epoch 44/500\n",
            "375/375 [==============================] - 5s 13ms/step - loss: 0.1863 - accuracy: 0.9409 - val_loss: 0.8724 - val_accuracy: 0.8972\n",
            "Epoch 45/500\n",
            "375/375 [==============================] - 5s 13ms/step - loss: 0.1712 - accuracy: 0.9429 - val_loss: 0.9142 - val_accuracy: 0.8951\n",
            "Epoch 46/500\n",
            "375/375 [==============================] - 5s 13ms/step - loss: 0.1734 - accuracy: 0.9431 - val_loss: 0.8255 - val_accuracy: 0.8957\n",
            "Epoch 47/500\n",
            "375/375 [==============================] - 5s 12ms/step - loss: 0.1796 - accuracy: 0.9437 - val_loss: 0.8241 - val_accuracy: 0.8947\n",
            "Epoch 48/500\n",
            "375/375 [==============================] - 5s 13ms/step - loss: 0.1830 - accuracy: 0.9428 - val_loss: 0.8457 - val_accuracy: 0.8981\n",
            "Epoch 49/500\n",
            "375/375 [==============================] - 5s 13ms/step - loss: 0.1738 - accuracy: 0.9459 - val_loss: 0.9002 - val_accuracy: 0.8999\n",
            "Epoch 50/500\n",
            "375/375 [==============================] - 5s 13ms/step - loss: 0.1818 - accuracy: 0.9436 - val_loss: 0.8092 - val_accuracy: 0.8939\n",
            "Epoch 51/500\n",
            "375/375 [==============================] - 5s 12ms/step - loss: 0.1780 - accuracy: 0.9450 - val_loss: 0.9327 - val_accuracy: 0.8899\n",
            "Epoch 52/500\n",
            "375/375 [==============================] - 5s 12ms/step - loss: 0.1707 - accuracy: 0.9452 - val_loss: 0.8981 - val_accuracy: 0.8991\n",
            "Epoch 53/500\n",
            "375/375 [==============================] - 5s 13ms/step - loss: 0.1785 - accuracy: 0.9454 - val_loss: 0.9328 - val_accuracy: 0.8923\n",
            "Epoch 54/500\n",
            "375/375 [==============================] - 5s 13ms/step - loss: 0.1779 - accuracy: 0.9444 - val_loss: 0.9339 - val_accuracy: 0.8937\n",
            "Epoch 55/500\n",
            "375/375 [==============================] - 5s 13ms/step - loss: 0.1688 - accuracy: 0.9441 - val_loss: 1.0459 - val_accuracy: 0.8940\n",
            "Epoch 56/500\n",
            "375/375 [==============================] - 5s 12ms/step - loss: 0.1719 - accuracy: 0.9460 - val_loss: 0.9503 - val_accuracy: 0.8995\n",
            "Epoch 57/500\n",
            "375/375 [==============================] - 5s 13ms/step - loss: 0.1747 - accuracy: 0.9466 - val_loss: 1.0035 - val_accuracy: 0.8980\n",
            "Epoch 58/500\n",
            "375/375 [==============================] - 5s 13ms/step - loss: 0.1720 - accuracy: 0.9466 - val_loss: 0.9806 - val_accuracy: 0.8932\n",
            "Epoch 59/500\n",
            "375/375 [==============================] - 5s 13ms/step - loss: 0.1722 - accuracy: 0.9446 - val_loss: 0.9476 - val_accuracy: 0.8929\n",
            "Epoch 60/500\n",
            "375/375 [==============================] - 5s 13ms/step - loss: 0.1717 - accuracy: 0.9463 - val_loss: 0.9653 - val_accuracy: 0.8921\n",
            "Epoch 61/500\n",
            "375/375 [==============================] - 5s 13ms/step - loss: 0.1755 - accuracy: 0.9468 - val_loss: 1.0203 - val_accuracy: 0.8966\n",
            "Epoch 62/500\n",
            "375/375 [==============================] - 5s 13ms/step - loss: 0.1629 - accuracy: 0.9489 - val_loss: 0.9758 - val_accuracy: 0.8942\n",
            "Epoch 63/500\n",
            "375/375 [==============================] - 5s 13ms/step - loss: 0.1721 - accuracy: 0.9468 - val_loss: 0.9255 - val_accuracy: 0.8944\n",
            "Epoch 64/500\n",
            "375/375 [==============================] - 5s 13ms/step - loss: 0.1706 - accuracy: 0.9463 - val_loss: 1.0809 - val_accuracy: 0.8947\n",
            "Epoch 65/500\n",
            "375/375 [==============================] - 5s 13ms/step - loss: 0.1769 - accuracy: 0.9450 - val_loss: 1.0073 - val_accuracy: 0.8940\n",
            "Epoch 66/500\n",
            "375/375 [==============================] - 5s 13ms/step - loss: 0.1599 - accuracy: 0.9498 - val_loss: 1.0788 - val_accuracy: 0.8966\n",
            "Epoch 67/500\n",
            "375/375 [==============================] - 5s 13ms/step - loss: 0.1710 - accuracy: 0.9477 - val_loss: 1.1000 - val_accuracy: 0.8923\n",
            "Epoch 68/500\n",
            "375/375 [==============================] - 5s 13ms/step - loss: 0.1646 - accuracy: 0.9494 - val_loss: 1.0986 - val_accuracy: 0.8950\n",
            "Epoch 69/500\n",
            "375/375 [==============================] - 5s 13ms/step - loss: 0.1769 - accuracy: 0.9476 - val_loss: 1.0448 - val_accuracy: 0.8947\n",
            "Epoch 70/500\n",
            "375/375 [==============================] - 5s 13ms/step - loss: 0.1662 - accuracy: 0.9492 - val_loss: 1.0830 - val_accuracy: 0.8951\n",
            "Epoch 71/500\n",
            "375/375 [==============================] - 5s 13ms/step - loss: 0.1671 - accuracy: 0.9467 - val_loss: 1.0153 - val_accuracy: 0.8973\n"
          ]
        }
      ]
    },
    {
      "cell_type": "code",
      "source": [
        "# vẽ lại quá trình học\n",
        "plt.plot(history.history['accuracy'])\n",
        "plt.plot(history.history['val_accuracy'])\n",
        "plt.title('model accuracy')\n",
        "plt.ylabel('accuracy')\n",
        "plt.xlabel('epochs')\n",
        "plt.legend(['train','Validation'])\n",
        "plt.show()"
      ],
      "metadata": {
        "colab": {
          "base_uri": "https://localhost:8080/",
          "height": 295
        },
        "id": "-6a5boz3YRAh",
        "outputId": "65915185-e28e-4391-d793-3d6369a86e16"
      },
      "execution_count": null,
      "outputs": [
        {
          "output_type": "display_data",
          "data": {
            "text/plain": [
              "<Figure size 432x288 with 1 Axes>"
            ],
            "image/png": "[encoded data removed]"
          },
          "metadata": {
            "needs_background": "light"
          }
        }
      ]
    },
    {
      "cell_type": "code",
      "source": [
        "#đánh giá mô hình\n",
        "score = model.evaluate(x_test,y_test,verbose=0)\n",
        "print('Sai số kiểm tra là: ',score[0])\n",
        "print('Độ chính xác kiểm tra là: ',score[1])"
      ],
      "metadata": {
        "colab": {
          "base_uri": "https://localhost:8080/"
        },
        "id": "Q2Ui5n9sZNDy",
        "outputId": "f9dc2d97-0901-4f17-d007-34df4b9665ff"
      },
      "execution_count": null,
      "outputs": [
        {
          "output_type": "stream",
          "name": "stdout",
          "text": [
            "Sai số kiểm tra là:  1.1835561990737915\n",
            "Độ chính xác kiểm tra là:  0.8920000195503235\n"
          ]
        }
      ]
    },
    {
      "cell_type": "code",
      "source": [
        ""
      ],
      "metadata": {
        "id": "VUGJjK_Ybdfc"
      },
      "execution_count": null,
      "outputs": []
    }
  ]
}