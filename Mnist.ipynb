{
  "nbformat": 4,
  "nbformat_minor": 0,
  "metadata": {
    "colab": {
      "name": "Mnist.ipynb",
      "provenance": [],
      "include_colab_link": true
    },
    "kernelspec": {
      "name": "python3",
      "display_name": "Python 3"
    },
    "language_info": {
      "name": "python"
    }
  },
  "cells": [
    {
      "cell_type": "markdown",
      "metadata": {
        "id": "view-in-github",
        "colab_type": "text"
      },
      "source": [
        "<a href=\"https://colab.research.google.com/github/HaHuyHoang19146188/BAII-TAP-AI/blob/main/Mnist.ipynb\" target=\"_parent\"><img src=\"https://colab.research.google.com/assets/colab-badge.svg\" alt=\"Open In Colab\"/></a>"
      ]
    },
    {
      "cell_type": "code",
      "execution_count": null,
      "metadata": {
        "id": "PDDC10aUBsxf"
      },
      "outputs": [],
      "source": [
        "from keras.utils import np_utils\n",
        "from keras.datasets import mnist\n",
        "from keras.models import Sequential\n",
        "from keras.layers import Dense, Dropout\n",
        "from tensorflow.keras.optimizers import RMSprop\n",
        "import numpy as np\n",
        "import pandas as pd\n",
        "import matplotlib.pyplot as plt  "
      ]
    },
    {
      "cell_type": "code",
      "source": [
        "(x_train, y_train),(x_test,y_test) = mnist.load_data()\n"
      ],
      "metadata": {
        "id": "zLcSLhyOBuGY"
      },
      "execution_count": null,
      "outputs": []
    },
    {
      "cell_type": "code",
      "source": [
        "print(\"Dimension of x_train: \" ,x_train.shape)\n",
        "print(\"Dimension of y_train: \" ,y_train.shape)\n",
        "print(\"Dimension of x_test: \" ,x_test.shape)\n",
        "print(\"Dimension of y_test: \" ,y_test.shape)"
      ],
      "metadata": {
        "colab": {
          "base_uri": "https://localhost:8080/"
        },
        "id": "iJqEU6ucB1Lp",
        "outputId": "7e23e304-7b23-4554-e1cc-7f7fc133fa04"
      },
      "execution_count": null,
      "outputs": [
        {
          "output_type": "stream",
          "name": "stdout",
          "text": [
            "Dimension of x_train:  (60000, 28, 28)\n",
            "Dimension of y_train:  (60000,)\n",
            "Dimension of x_test:  (10000, 28, 28)\n",
            "Dimension of y_test:  (10000,)\n"
          ]
        }
      ]
    },
    {
      "cell_type": "code",
      "source": [
        "x_train = x_train.reshape(60000,784)\n",
        "x_test = x_test.reshape(10000,784)\n",
        "\n",
        "x_train = x_train.astype('float32')\n",
        "x_test = x_test.astype('float32')\n",
        "\n",
        "x_train /=255\n",
        "x_test /=255\n",
        "\n",
        "y_train = np_utils.to_categorical(y_train,10)\n",
        "y_test = np_utils.to_categorical(y_test,10)"
      ],
      "metadata": {
        "id": "j0xVB_JlCYfh"
      },
      "execution_count": null,
      "outputs": []
    },
    {
      "cell_type": "code",
      "source": [
        "model = Sequential()\n",
        "model.add(Dense(512,activation='relu',input_shape=(784,)))\n",
        "model.add(Dropout(0.2))\n",
        "model.add(Dense(512,activation='relu'))\n",
        "model.add(Dropout(0.2))\n",
        "model.add(Dense(10,activation='softmax'))\n",
        "\n",
        "model.summary()"
      ],
      "metadata": {
        "colab": {
          "base_uri": "https://localhost:8080/"
        },
        "id": "FatlfCz_GDid",
        "outputId": "247c1f6d-3e03-4943-be15-4cb32e5afe19"
      },
      "execution_count": null,
      "outputs": [
        {
          "output_type": "stream",
          "name": "stdout",
          "text": [
            "Model: \"sequential\"\n",
            "_________________________________________________________________\n",
            " Layer (type)                Output Shape              Param #   \n",
            "=================================================================\n",
            " dense (Dense)               (None, 512)               401920    \n",
            "                                                                 \n",
            " dropout (Dropout)           (None, 512)               0         \n",
            "                                                                 \n",
            " dense_1 (Dense)             (None, 512)               262656    \n",
            "                                                                 \n",
            " dropout_1 (Dropout)         (None, 512)               0         \n",
            "                                                                 \n",
            " dense_2 (Dense)             (None, 10)                5130      \n",
            "                                                                 \n",
            "=================================================================\n",
            "Total params: 669,706\n",
            "Trainable params: 669,706\n",
            "Non-trainable params: 0\n",
            "_________________________________________________________________\n"
          ]
        }
      ]
    },
    {
      "cell_type": "code",
      "source": [
        "model.compile(loss='categorical_crossentropy',optimizer=RMSprop(), metrics=['accuracy'])"
      ],
      "metadata": {
        "id": "GP7AAqM6GEwV"
      },
      "execution_count": null,
      "outputs": []
    },
    {
      "cell_type": "code",
      "source": [
        "model.compile(loss='categorical_crossentropy',optimizer=RMSprop(), metrics=['accuracy'])\n",
        "from keras.callbacks import EarlyStopping\n",
        "history = model.fit(x_train,y_train,batch_size=128,epochs=500,verbose=1,\n",
        "                    validation_split=0.2,callbacks=[EarlyStopping(monitor='val_loss',patience=50)])"
      ],
      "metadata": {
        "colab": {
          "base_uri": "https://localhost:8080/"
        },
        "id": "AWObONZnGGTJ",
        "outputId": "588ad255-1499-4c40-e6e8-4c1dbb302ec6"
      },
      "execution_count": null,
      "outputs": [
        {
          "output_type": "stream",
          "name": "stdout",
          "text": [
            "Epoch 1/500\n",
            "375/375 [==============================] - 9s 21ms/step - loss: 0.2738 - accuracy: 0.9155 - val_loss: 0.1354 - val_accuracy: 0.9605\n",
            "Epoch 2/500\n",
            "375/375 [==============================] - 7s 19ms/step - loss: 0.1123 - accuracy: 0.9657 - val_loss: 0.1044 - val_accuracy: 0.9703\n",
            "Epoch 3/500\n",
            "375/375 [==============================] - 7s 19ms/step - loss: 0.0794 - accuracy: 0.9758 - val_loss: 0.0845 - val_accuracy: 0.9764\n",
            "Epoch 4/500\n",
            "375/375 [==============================] - 7s 19ms/step - loss: 0.0639 - accuracy: 0.9807 - val_loss: 0.0916 - val_accuracy: 0.9753\n",
            "Epoch 5/500\n",
            "375/375 [==============================] - 7s 19ms/step - loss: 0.0514 - accuracy: 0.9849 - val_loss: 0.0830 - val_accuracy: 0.9779\n",
            "Epoch 6/500\n",
            "375/375 [==============================] - 7s 20ms/step - loss: 0.0425 - accuracy: 0.9869 - val_loss: 0.0925 - val_accuracy: 0.9784\n",
            "Epoch 7/500\n",
            "375/375 [==============================] - 7s 20ms/step - loss: 0.0365 - accuracy: 0.9890 - val_loss: 0.0987 - val_accuracy: 0.9792\n",
            "Epoch 8/500\n",
            "375/375 [==============================] - 8s 21ms/step - loss: 0.0330 - accuracy: 0.9903 - val_loss: 0.1026 - val_accuracy: 0.9786\n",
            "Epoch 9/500\n",
            "375/375 [==============================] - 7s 20ms/step - loss: 0.0299 - accuracy: 0.9910 - val_loss: 0.1076 - val_accuracy: 0.9778\n",
            "Epoch 10/500\n",
            "375/375 [==============================] - 9s 24ms/step - loss: 0.0267 - accuracy: 0.9916 - val_loss: 0.1071 - val_accuracy: 0.9791\n",
            "Epoch 11/500\n",
            "375/375 [==============================] - 8s 21ms/step - loss: 0.0237 - accuracy: 0.9925 - val_loss: 0.1285 - val_accuracy: 0.9779\n",
            "Epoch 12/500\n",
            "375/375 [==============================] - 8s 21ms/step - loss: 0.0231 - accuracy: 0.9931 - val_loss: 0.1206 - val_accuracy: 0.9797\n",
            "Epoch 13/500\n",
            "375/375 [==============================] - 8s 21ms/step - loss: 0.0235 - accuracy: 0.9934 - val_loss: 0.1236 - val_accuracy: 0.9787\n",
            "Epoch 14/500\n",
            "375/375 [==============================] - 7s 20ms/step - loss: 0.0196 - accuracy: 0.9941 - val_loss: 0.1377 - val_accuracy: 0.9795\n",
            "Epoch 15/500\n",
            "375/375 [==============================] - 7s 20ms/step - loss: 0.0195 - accuracy: 0.9943 - val_loss: 0.1342 - val_accuracy: 0.9803\n",
            "Epoch 16/500\n",
            "375/375 [==============================] - 7s 20ms/step - loss: 0.0189 - accuracy: 0.9951 - val_loss: 0.1393 - val_accuracy: 0.9792\n",
            "Epoch 17/500\n",
            "375/375 [==============================] - 8s 21ms/step - loss: 0.0170 - accuracy: 0.9950 - val_loss: 0.1372 - val_accuracy: 0.9812\n",
            "Epoch 18/500\n",
            "375/375 [==============================] - 8s 21ms/step - loss: 0.0167 - accuracy: 0.9949 - val_loss: 0.1504 - val_accuracy: 0.9804\n",
            "Epoch 19/500\n",
            "375/375 [==============================] - 8s 20ms/step - loss: 0.0169 - accuracy: 0.9957 - val_loss: 0.1520 - val_accuracy: 0.9818\n",
            "Epoch 20/500\n",
            "375/375 [==============================] - 8s 21ms/step - loss: 0.0144 - accuracy: 0.9959 - val_loss: 0.1782 - val_accuracy: 0.9808\n",
            "Epoch 21/500\n",
            "375/375 [==============================] - 8s 20ms/step - loss: 0.0141 - accuracy: 0.9959 - val_loss: 0.1683 - val_accuracy: 0.9793\n",
            "Epoch 22/500\n",
            "375/375 [==============================] - 8s 20ms/step - loss: 0.0144 - accuracy: 0.9963 - val_loss: 0.1789 - val_accuracy: 0.9788\n",
            "Epoch 23/500\n",
            "375/375 [==============================] - 7s 20ms/step - loss: 0.0148 - accuracy: 0.9960 - val_loss: 0.1641 - val_accuracy: 0.9813\n",
            "Epoch 24/500\n",
            "375/375 [==============================] - 7s 19ms/step - loss: 0.0135 - accuracy: 0.9961 - val_loss: 0.1687 - val_accuracy: 0.9791\n",
            "Epoch 25/500\n",
            "375/375 [==============================] - 8s 21ms/step - loss: 0.0143 - accuracy: 0.9966 - val_loss: 0.1997 - val_accuracy: 0.9793\n",
            "Epoch 26/500\n",
            "375/375 [==============================] - 8s 20ms/step - loss: 0.0118 - accuracy: 0.9969 - val_loss: 0.1645 - val_accuracy: 0.9813\n",
            "Epoch 27/500\n",
            "375/375 [==============================] - 8s 20ms/step - loss: 0.0126 - accuracy: 0.9966 - val_loss: 0.1778 - val_accuracy: 0.9807\n",
            "Epoch 28/500\n",
            "375/375 [==============================] - 8s 21ms/step - loss: 0.0129 - accuracy: 0.9965 - val_loss: 0.1849 - val_accuracy: 0.9806\n",
            "Epoch 29/500\n",
            "375/375 [==============================] - 8s 21ms/step - loss: 0.0131 - accuracy: 0.9964 - val_loss: 0.1837 - val_accuracy: 0.9819\n",
            "Epoch 30/500\n",
            "375/375 [==============================] - 8s 21ms/step - loss: 0.0130 - accuracy: 0.9969 - val_loss: 0.1971 - val_accuracy: 0.9803\n",
            "Epoch 31/500\n",
            "375/375 [==============================] - 8s 22ms/step - loss: 0.0110 - accuracy: 0.9972 - val_loss: 0.2005 - val_accuracy: 0.9802\n",
            "Epoch 32/500\n",
            "375/375 [==============================] - 8s 21ms/step - loss: 0.0119 - accuracy: 0.9971 - val_loss: 0.1967 - val_accuracy: 0.9809\n",
            "Epoch 33/500\n",
            "375/375 [==============================] - 7s 20ms/step - loss: 0.0129 - accuracy: 0.9970 - val_loss: 0.1977 - val_accuracy: 0.9813\n",
            "Epoch 34/500\n",
            "375/375 [==============================] - 8s 20ms/step - loss: 0.0097 - accuracy: 0.9976 - val_loss: 0.1834 - val_accuracy: 0.9830\n",
            "Epoch 35/500\n",
            "375/375 [==============================] - 8s 21ms/step - loss: 0.0119 - accuracy: 0.9972 - val_loss: 0.2114 - val_accuracy: 0.9818\n",
            "Epoch 36/500\n",
            "375/375 [==============================] - 8s 20ms/step - loss: 0.0125 - accuracy: 0.9969 - val_loss: 0.2280 - val_accuracy: 0.9808\n",
            "Epoch 37/500\n",
            "375/375 [==============================] - 8s 20ms/step - loss: 0.0109 - accuracy: 0.9975 - val_loss: 0.2118 - val_accuracy: 0.9813\n",
            "Epoch 38/500\n",
            "375/375 [==============================] - 8s 21ms/step - loss: 0.0101 - accuracy: 0.9976 - val_loss: 0.2223 - val_accuracy: 0.9817\n",
            "Epoch 39/500\n",
            "375/375 [==============================] - 8s 21ms/step - loss: 0.0097 - accuracy: 0.9976 - val_loss: 0.2364 - val_accuracy: 0.9818\n",
            "Epoch 40/500\n",
            "375/375 [==============================] - 8s 20ms/step - loss: 0.0110 - accuracy: 0.9976 - val_loss: 0.2015 - val_accuracy: 0.9829\n",
            "Epoch 41/500\n",
            "375/375 [==============================] - 7s 20ms/step - loss: 0.0094 - accuracy: 0.9976 - val_loss: 0.2200 - val_accuracy: 0.9818\n",
            "Epoch 42/500\n",
            "375/375 [==============================] - 7s 19ms/step - loss: 0.0094 - accuracy: 0.9976 - val_loss: 0.2250 - val_accuracy: 0.9823\n",
            "Epoch 43/500\n",
            "375/375 [==============================] - 8s 20ms/step - loss: 0.0102 - accuracy: 0.9976 - val_loss: 0.2223 - val_accuracy: 0.9826\n",
            "Epoch 44/500\n",
            "375/375 [==============================] - 8s 21ms/step - loss: 0.0109 - accuracy: 0.9976 - val_loss: 0.2096 - val_accuracy: 0.9821\n",
            "Epoch 45/500\n",
            "375/375 [==============================] - 7s 20ms/step - loss: 0.0092 - accuracy: 0.9978 - val_loss: 0.2422 - val_accuracy: 0.9810\n",
            "Epoch 46/500\n",
            "375/375 [==============================] - 7s 19ms/step - loss: 0.0113 - accuracy: 0.9976 - val_loss: 0.2133 - val_accuracy: 0.9812\n",
            "Epoch 47/500\n",
            "375/375 [==============================] - 7s 20ms/step - loss: 0.0078 - accuracy: 0.9979 - val_loss: 0.2317 - val_accuracy: 0.9825\n",
            "Epoch 48/500\n",
            "375/375 [==============================] - 7s 20ms/step - loss: 0.0095 - accuracy: 0.9979 - val_loss: 0.2356 - val_accuracy: 0.9812\n",
            "Epoch 49/500\n",
            "375/375 [==============================] - 8s 20ms/step - loss: 0.0068 - accuracy: 0.9983 - val_loss: 0.2383 - val_accuracy: 0.9825\n",
            "Epoch 50/500\n",
            "375/375 [==============================] - 7s 20ms/step - loss: 0.0077 - accuracy: 0.9984 - val_loss: 0.2526 - val_accuracy: 0.9813\n",
            "Epoch 51/500\n",
            "375/375 [==============================] - 8s 20ms/step - loss: 0.0091 - accuracy: 0.9980 - val_loss: 0.2358 - val_accuracy: 0.9821\n",
            "Epoch 52/500\n",
            "375/375 [==============================] - 7s 19ms/step - loss: 0.0073 - accuracy: 0.9980 - val_loss: 0.2583 - val_accuracy: 0.9819\n",
            "Epoch 53/500\n",
            "375/375 [==============================] - 7s 20ms/step - loss: 0.0087 - accuracy: 0.9980 - val_loss: 0.2731 - val_accuracy: 0.9816\n",
            "Epoch 54/500\n",
            "375/375 [==============================] - 7s 19ms/step - loss: 0.0091 - accuracy: 0.9980 - val_loss: 0.2471 - val_accuracy: 0.9813\n",
            "Epoch 55/500\n",
            "375/375 [==============================] - 7s 19ms/step - loss: 0.0085 - accuracy: 0.9980 - val_loss: 0.2738 - val_accuracy: 0.9819\n"
          ]
        }
      ]
    },
    {
      "cell_type": "code",
      "source": [
        "# Đánh giá mô hình\n",
        "score = model.evaluate(x_test,y_test,verbose=0)\n",
        "print('Sai số kiểm tra là: ',score[0])\n",
        "print('Độ chính xác kiểm tra là: ',score[1])"
      ],
      "metadata": {
        "colab": {
          "base_uri": "https://localhost:8080/"
        },
        "id": "QLYxb1-2GIbX",
        "outputId": "55e328e4-3679-4780-9e1d-3ebd9f2e4e5a"
      },
      "execution_count": null,
      "outputs": [
        {
          "output_type": "stream",
          "name": "stdout",
          "text": [
            "Sai số kiểm tra là:  0.2297811061143875\n",
            "Độ chính xác kiểm tra là:  0.9837999939918518\n"
          ]
        }
      ]
    },
    {
      "cell_type": "code",
      "source": [
        "plt.plot(history.history['accuracy'])\n",
        "plt.plot(history.history['val_accuracy'])\n",
        "plt.title('model accuracy')\n",
        "plt.ylabel('accuracy')\n",
        "plt.xlabel('epochs')\n",
        "plt.legend(['train','Validation'])\n",
        "plt.show()"
      ],
      "metadata": {
        "id": "FB7Es_qAMfsW",
        "outputId": "a9b9756a-d5db-44c0-a7f8-b704930a2d29",
        "colab": {
          "base_uri": "https://localhost:8080/",
          "height": 295
        }
      },
      "execution_count": null,
      "outputs": [
        {
          "output_type": "display_data",
          "data": {
            "text/plain": [
              "<Figure size 432x288 with 1 Axes>"
            ],
            "image/png": "[encoded data removed]"
          },
          "metadata": {
            "needs_background": "light"
          }
        }
      ]
    },
    {
      "cell_type": "code",
      "source": [
        ""
      ],
      "metadata": {
        "id": "tObvbCl1Mh_Y"
      },
      "execution_count": null,
      "outputs": []
    }
  ]
}