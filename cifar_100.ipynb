{
  "nbformat": 4,
  "nbformat_minor": 0,
  "metadata": {
    "colab": {
      "name": "cifar_100.ipynb",
      "provenance": [],
      "authorship_tag": "ABX9TyMDJ1RDVW9Dor9VbMd4sUP/",
      "include_colab_link": true
    },
    "kernelspec": {
      "name": "python3",
      "display_name": "Python 3"
    },
    "language_info": {
      "name": "python"
    }
  },
  "cells": [
    {
      "cell_type": "markdown",
      "metadata": {
        "id": "view-in-github",
        "colab_type": "text"
      },
      "source": [
        "<a href=\"https://colab.research.google.com/github/HaHuyHoang19146188/BAII-TAP-AI_TUAN12/blob/main/cifar_100.ipynb\" target=\"_parent\"><img src=\"https://colab.research.google.com/assets/colab-badge.svg\" alt=\"Open In Colab\"/></a>"
      ]
    },
    {
      "cell_type": "code",
      "execution_count": null,
      "metadata": {
        "id": "qJfpsw3Uh6Jw"
      },
      "outputs": [],
      "source": [
        "#import thư viện\n",
        "import numpy as np\n",
        "import pandas as pd\n",
        "from keras.datasets import cifar100\n",
        "import matplotlib.pyplot as plt\n",
        "from keras.utils import np_utils\n",
        "from keras.models import Sequential\n",
        "from keras.layers import Dense, Dropout\n",
        "from tensorflow.keras.optimizers import RMSprop\n",
        "from keras.callbacks import EarlyStopping\n",
        "from keras.backend import dropout"
      ]
    },
    {
      "cell_type": "code",
      "source": [
        "#chia dữ liệu thành 2 tập train và test\n",
        "(x_train, y_train),(x_test,y_test) = cifar100.load_data()"
      ],
      "metadata": {
        "colab": {
          "base_uri": "https://localhost:8080/"
        },
        "id": "1qyI0aNTiFzD",
        "outputId": "2ee3357e-6a24-4827-e585-6d9b4da502bc"
      },
      "execution_count": null,
      "outputs": [
        {
          "output_type": "stream",
          "name": "stdout",
          "text": [
            "Downloading data from https://www.cs.toronto.edu/~kriz/cifar-100-python.tar.gz\n",
            "169009152/169001437 [==============================] - 4s 0us/step\n",
            "169017344/169001437 [==============================] - 4s 0us/step\n"
          ]
        }
      ]
    },
    {
      "cell_type": "code",
      "source": [
        "#quan sát chiều dữ liệu\n",
        "x_train.shape"
      ],
      "metadata": {
        "colab": {
          "base_uri": "https://localhost:8080/"
        },
        "id": "p5_OlELziHJY",
        "outputId": "03585266-ee58-4d06-8e6b-9f7cf5c6c4e7"
      },
      "execution_count": null,
      "outputs": [
        {
          "output_type": "execute_result",
          "data": {
            "text/plain": [
              "(50000, 32, 32, 3)"
            ]
          },
          "metadata": {},
          "execution_count": 3
        }
      ]
    },
    {
      "cell_type": "code",
      "source": [
        "y_train.shape"
      ],
      "metadata": {
        "colab": {
          "base_uri": "https://localhost:8080/"
        },
        "id": "5qHKPm2iiMKg",
        "outputId": "483e5a20-bdae-45e3-82cd-1ef935496926"
      },
      "execution_count": null,
      "outputs": [
        {
          "output_type": "execute_result",
          "data": {
            "text/plain": [
              "(50000, 1)"
            ]
          },
          "metadata": {},
          "execution_count": 4
        }
      ]
    },
    {
      "cell_type": "code",
      "source": [
        "x_test.shape"
      ],
      "metadata": {
        "colab": {
          "base_uri": "https://localhost:8080/"
        },
        "id": "NOYil13yiNAN",
        "outputId": "90ec0dcf-ed93-49f2-86d0-6e05685ce4b2"
      },
      "execution_count": null,
      "outputs": [
        {
          "output_type": "execute_result",
          "data": {
            "text/plain": [
              "(10000, 32, 32, 3)"
            ]
          },
          "metadata": {},
          "execution_count": 5
        }
      ]
    },
    {
      "cell_type": "code",
      "source": [
        "y_test.shape"
      ],
      "metadata": {
        "colab": {
          "base_uri": "https://localhost:8080/"
        },
        "id": "RbopFxDdiQlb",
        "outputId": "47cb1b28-d62b-47c3-8087-602ee90cef8a"
      },
      "execution_count": null,
      "outputs": [
        {
          "output_type": "execute_result",
          "data": {
            "text/plain": [
              "(10000, 1)"
            ]
          },
          "metadata": {},
          "execution_count": 6
        }
      ]
    },
    {
      "cell_type": "code",
      "source": [
        "x_train = x_train.reshape(50000,3072)\n",
        "x_test = x_test.reshape(10000,3072)\n",
        "x_train = x_train.astype('float32')\n",
        "x_test = x_test.astype('float32')\n",
        "x_train /=255\n",
        "x_test /=255\n",
        "y_train = np_utils.to_categorical(y_train,100)\n",
        "y_test = np_utils.to_categorical(y_test,100)"
      ],
      "metadata": {
        "id": "ijU3PJg2iTai"
      },
      "execution_count": null,
      "outputs": []
    },
    {
      "cell_type": "code",
      "source": [
        "#tạo mạng nơ-ron\n",
        "model = Sequential()\n",
        "model.add(Dense(512,activation='relu',input_shape=(3072,)))\n",
        "model.add(Dropout(0.2))\n",
        "model.add(Dense(4096,activation='relu'))\n",
        "model.add(Dropout(0.2))\n",
        "model.add(Dense(512,activation='relu'))\n",
        "model.add(Dropout(0.2))\n",
        "model.add(Dense(100,activation='softmax'))\n",
        "model.summary()"
      ],
      "metadata": {
        "colab": {
          "base_uri": "https://localhost:8080/"
        },
        "id": "81znOPzqiWeC",
        "outputId": "352da983-4870-4a95-8646-25803805d370"
      },
      "execution_count": null,
      "outputs": [
        {
          "output_type": "stream",
          "name": "stdout",
          "text": [
            "Model: \"sequential_1\"\n",
            "_________________________________________________________________\n",
            " Layer (type)                Output Shape              Param #   \n",
            "=================================================================\n",
            " dense_3 (Dense)             (None, 512)               1573376   \n",
            "                                                                 \n",
            " dropout_2 (Dropout)         (None, 512)               0         \n",
            "                                                                 \n",
            " dense_4 (Dense)             (None, 4096)              2101248   \n",
            "                                                                 \n",
            " dropout_3 (Dropout)         (None, 4096)              0         \n",
            "                                                                 \n",
            " dense_5 (Dense)             (None, 512)               2097664   \n",
            "                                                                 \n",
            " dropout_4 (Dropout)         (None, 512)               0         \n",
            "                                                                 \n",
            " dense_6 (Dense)             (None, 100)               51300     \n",
            "                                                                 \n",
            "=================================================================\n",
            "Total params: 5,823,588\n",
            "Trainable params: 5,823,588\n",
            "Non-trainable params: 0\n",
            "_________________________________________________________________\n"
          ]
        }
      ]
    },
    {
      "cell_type": "code",
      "source": [
        "#chạy model\n",
        "model.compile(loss='categorical_crossentropy',optimizer=RMSprop(), metrics=['accuracy'])\n",
        "from keras.callbacks import EarlyStopping\n",
        "history = model.fit(x_train,y_train,batch_size=128,epochs=500,verbose=1,\n",
        "                    validation_split=0.2,callbacks=[EarlyStopping(monitor='val_loss',patience=50)])"
      ],
      "metadata": {
        "colab": {
          "base_uri": "https://localhost:8080/"
        },
        "id": "MGBJJUBwicyi",
        "outputId": "2f553c45-618e-43c0-fd3c-07848f1df932"
      },
      "execution_count": null,
      "outputs": [
        {
          "output_type": "stream",
          "name": "stdout",
          "text": [
            "Epoch 1/500\n",
            "313/313 [==============================] - 56s 175ms/step - loss: 4.4636 - accuracy: 0.0342 - val_loss: 4.1664 - val_accuracy: 0.0566\n",
            "Epoch 2/500\n",
            "313/313 [==============================] - 54s 172ms/step - loss: 4.0975 - accuracy: 0.0686 - val_loss: 3.9617 - val_accuracy: 0.0908\n",
            "Epoch 3/500\n",
            "313/313 [==============================] - 56s 179ms/step - loss: 3.9280 - accuracy: 0.0946 - val_loss: 3.8469 - val_accuracy: 0.1120\n",
            "Epoch 4/500\n",
            "313/313 [==============================] - 54s 172ms/step - loss: 3.8277 - accuracy: 0.1106 - val_loss: 3.8763 - val_accuracy: 0.1100\n",
            "Epoch 5/500\n",
            "313/313 [==============================] - 56s 178ms/step - loss: 3.7590 - accuracy: 0.1232 - val_loss: 3.7366 - val_accuracy: 0.1339\n",
            "Epoch 6/500\n",
            "313/313 [==============================] - 54s 172ms/step - loss: 3.6961 - accuracy: 0.1364 - val_loss: 3.6549 - val_accuracy: 0.1459\n",
            "Epoch 7/500\n",
            "313/313 [==============================] - 56s 178ms/step - loss: 3.6602 - accuracy: 0.1413 - val_loss: 3.6878 - val_accuracy: 0.1428\n",
            "Epoch 8/500\n",
            "313/313 [==============================] - 57s 181ms/step - loss: 3.6380 - accuracy: 0.1466 - val_loss: 3.6255 - val_accuracy: 0.1667\n",
            "Epoch 9/500\n",
            "313/313 [==============================] - 55s 175ms/step - loss: 3.6097 - accuracy: 0.1503 - val_loss: 3.6694 - val_accuracy: 0.1442\n",
            "Epoch 10/500\n",
            "313/313 [==============================] - 54s 174ms/step - loss: 3.5806 - accuracy: 0.1542 - val_loss: 3.6385 - val_accuracy: 0.1543\n",
            "Epoch 11/500\n",
            "313/313 [==============================] - 55s 177ms/step - loss: 3.5732 - accuracy: 0.1597 - val_loss: 3.5676 - val_accuracy: 0.1727\n",
            "Epoch 12/500\n",
            "313/313 [==============================] - 55s 174ms/step - loss: 3.5604 - accuracy: 0.1571 - val_loss: 3.5386 - val_accuracy: 0.1733\n",
            "Epoch 13/500\n",
            "313/313 [==============================] - 54s 171ms/step - loss: 3.5404 - accuracy: 0.1646 - val_loss: 3.5285 - val_accuracy: 0.1742\n",
            "Epoch 14/500\n",
            "313/313 [==============================] - 54s 174ms/step - loss: 3.5495 - accuracy: 0.1631 - val_loss: 3.5435 - val_accuracy: 0.1689\n",
            "Epoch 15/500\n",
            "313/313 [==============================] - 55s 175ms/step - loss: 3.5356 - accuracy: 0.1661 - val_loss: 3.5935 - val_accuracy: 0.1640\n",
            "Epoch 16/500\n",
            "313/313 [==============================] - 55s 177ms/step - loss: 3.5313 - accuracy: 0.1646 - val_loss: 3.6610 - val_accuracy: 0.1523\n",
            "Epoch 17/500\n",
            "313/313 [==============================] - 52s 165ms/step - loss: 3.5255 - accuracy: 0.1666 - val_loss: 3.6833 - val_accuracy: 0.1506\n",
            "Epoch 18/500\n",
            "313/313 [==============================] - 53s 168ms/step - loss: 3.5297 - accuracy: 0.1670 - val_loss: 3.6050 - val_accuracy: 0.1611\n",
            "Epoch 19/500\n",
            "313/313 [==============================] - 55s 175ms/step - loss: 3.5218 - accuracy: 0.1708 - val_loss: 3.5711 - val_accuracy: 0.1667\n",
            "Epoch 20/500\n",
            "313/313 [==============================] - 56s 178ms/step - loss: 3.5230 - accuracy: 0.1676 - val_loss: 3.6442 - val_accuracy: 0.1552\n",
            "Epoch 21/500\n",
            "313/313 [==============================] - 56s 178ms/step - loss: 3.5251 - accuracy: 0.1690 - val_loss: 3.6132 - val_accuracy: 0.1608\n",
            "Epoch 22/500\n",
            "313/313 [==============================] - 54s 172ms/step - loss: 3.5206 - accuracy: 0.1726 - val_loss: 3.5461 - val_accuracy: 0.1709\n",
            "Epoch 23/500\n",
            "313/313 [==============================] - 55s 175ms/step - loss: 3.5112 - accuracy: 0.1713 - val_loss: 3.6186 - val_accuracy: 0.1548\n",
            "Epoch 24/500\n",
            "313/313 [==============================] - 52s 167ms/step - loss: 3.5244 - accuracy: 0.1680 - val_loss: 3.5531 - val_accuracy: 0.1681\n",
            "Epoch 25/500\n",
            "313/313 [==============================] - 56s 178ms/step - loss: 3.5099 - accuracy: 0.1724 - val_loss: 3.5270 - val_accuracy: 0.1757\n",
            "Epoch 26/500\n",
            "313/313 [==============================] - 54s 174ms/step - loss: 3.5208 - accuracy: 0.1707 - val_loss: 3.5445 - val_accuracy: 0.1753\n",
            "Epoch 27/500\n",
            "313/313 [==============================] - 54s 172ms/step - loss: 3.5183 - accuracy: 0.1705 - val_loss: 3.5645 - val_accuracy: 0.1758\n",
            "Epoch 28/500\n",
            "313/313 [==============================] - 53s 169ms/step - loss: 3.5224 - accuracy: 0.1715 - val_loss: 3.5690 - val_accuracy: 0.1648\n",
            "Epoch 29/500\n",
            "313/313 [==============================] - 53s 170ms/step - loss: 3.5202 - accuracy: 0.1708 - val_loss: 3.5085 - val_accuracy: 0.1750\n",
            "Epoch 30/500\n",
            "313/313 [==============================] - 55s 174ms/step - loss: 3.5194 - accuracy: 0.1718 - val_loss: 3.6261 - val_accuracy: 0.1619\n",
            "Epoch 31/500\n",
            "313/313 [==============================] - 55s 176ms/step - loss: 3.5280 - accuracy: 0.1720 - val_loss: 3.5472 - val_accuracy: 0.1750\n",
            "Epoch 32/500\n",
            "313/313 [==============================] - 54s 173ms/step - loss: 3.5341 - accuracy: 0.1705 - val_loss: 3.5924 - val_accuracy: 0.1653\n",
            "Epoch 33/500\n",
            "313/313 [==============================] - 55s 177ms/step - loss: 3.5315 - accuracy: 0.1682 - val_loss: 3.6268 - val_accuracy: 0.1521\n",
            "Epoch 34/500\n",
            "313/313 [==============================] - 55s 174ms/step - loss: 3.5435 - accuracy: 0.1682 - val_loss: 3.5509 - val_accuracy: 0.1705\n",
            "Epoch 35/500\n",
            "313/313 [==============================] - 56s 179ms/step - loss: 3.5304 - accuracy: 0.1688 - val_loss: 3.6521 - val_accuracy: 0.1457\n",
            "Epoch 36/500\n",
            "313/313 [==============================] - 54s 173ms/step - loss: 3.5322 - accuracy: 0.1693 - val_loss: 3.5747 - val_accuracy: 0.1632\n",
            "Epoch 37/500\n",
            "313/313 [==============================] - 53s 169ms/step - loss: 3.5534 - accuracy: 0.1683 - val_loss: 3.5634 - val_accuracy: 0.1762\n",
            "Epoch 38/500\n",
            "313/313 [==============================] - 56s 178ms/step - loss: 3.5317 - accuracy: 0.1699 - val_loss: 3.6218 - val_accuracy: 0.1572\n",
            "Epoch 39/500\n",
            "313/313 [==============================] - 52s 166ms/step - loss: 3.5428 - accuracy: 0.1677 - val_loss: 3.6328 - val_accuracy: 0.1521\n",
            "Epoch 40/500\n",
            "313/313 [==============================] - 56s 179ms/step - loss: 3.5366 - accuracy: 0.1712 - val_loss: 3.5335 - val_accuracy: 0.1718\n",
            "Epoch 41/500\n",
            "313/313 [==============================] - 55s 176ms/step - loss: 3.5437 - accuracy: 0.1692 - val_loss: 3.6607 - val_accuracy: 0.1468\n",
            "Epoch 42/500\n",
            "313/313 [==============================] - 55s 176ms/step - loss: 3.5467 - accuracy: 0.1682 - val_loss: 3.6467 - val_accuracy: 0.1537\n",
            "Epoch 43/500\n",
            "313/313 [==============================] - 55s 176ms/step - loss: 3.5561 - accuracy: 0.1664 - val_loss: 3.5430 - val_accuracy: 0.1782\n",
            "Epoch 44/500\n",
            "313/313 [==============================] - 54s 172ms/step - loss: 3.5464 - accuracy: 0.1699 - val_loss: 3.4666 - val_accuracy: 0.1856\n",
            "Epoch 45/500\n",
            "313/313 [==============================] - 54s 174ms/step - loss: 3.5550 - accuracy: 0.1665 - val_loss: 3.5799 - val_accuracy: 0.1675\n",
            "Epoch 46/500\n",
            "313/313 [==============================] - 56s 179ms/step - loss: 3.5398 - accuracy: 0.1687 - val_loss: 3.6361 - val_accuracy: 0.1470\n",
            "Epoch 47/500\n",
            "313/313 [==============================] - 56s 180ms/step - loss: 3.5500 - accuracy: 0.1682 - val_loss: 3.6091 - val_accuracy: 0.1605\n",
            "Epoch 48/500\n",
            "313/313 [==============================] - 55s 176ms/step - loss: 3.5603 - accuracy: 0.1656 - val_loss: 3.6055 - val_accuracy: 0.1697\n",
            "Epoch 49/500\n",
            "313/313 [==============================] - 54s 171ms/step - loss: 3.5507 - accuracy: 0.1676 - val_loss: 3.5859 - val_accuracy: 0.1662\n",
            "Epoch 50/500\n",
            "313/313 [==============================] - 54s 172ms/step - loss: 3.5399 - accuracy: 0.1715 - val_loss: 3.5857 - val_accuracy: 0.1690\n",
            "Epoch 51/500\n",
            "313/313 [==============================] - 55s 175ms/step - loss: 3.5501 - accuracy: 0.1672 - val_loss: 3.6805 - val_accuracy: 0.1428\n",
            "Epoch 52/500\n",
            "313/313 [==============================] - 55s 175ms/step - loss: 3.5567 - accuracy: 0.1697 - val_loss: 3.5671 - val_accuracy: 0.1759\n",
            "Epoch 53/500\n",
            "313/313 [==============================] - 54s 171ms/step - loss: 3.5548 - accuracy: 0.1677 - val_loss: 3.5968 - val_accuracy: 0.1617\n",
            "Epoch 54/500\n",
            "313/313 [==============================] - 56s 179ms/step - loss: 3.5556 - accuracy: 0.1674 - val_loss: 3.6418 - val_accuracy: 0.1534\n",
            "Epoch 55/500\n",
            "313/313 [==============================] - 54s 172ms/step - loss: 3.5569 - accuracy: 0.1674 - val_loss: 3.5637 - val_accuracy: 0.1662\n",
            "Epoch 56/500\n",
            "313/313 [==============================] - 55s 175ms/step - loss: 3.5665 - accuracy: 0.1636 - val_loss: 3.5202 - val_accuracy: 0.1759\n",
            "Epoch 57/500\n",
            "313/313 [==============================] - 55s 177ms/step - loss: 3.5596 - accuracy: 0.1654 - val_loss: 3.5871 - val_accuracy: 0.1672\n",
            "Epoch 58/500\n",
            "313/313 [==============================] - 57s 182ms/step - loss: 3.5672 - accuracy: 0.1637 - val_loss: 3.6471 - val_accuracy: 0.1539\n",
            "Epoch 59/500\n",
            "313/313 [==============================] - 54s 172ms/step - loss: 3.5525 - accuracy: 0.1699 - val_loss: 3.6715 - val_accuracy: 0.1604\n",
            "Epoch 60/500\n",
            "313/313 [==============================] - 54s 174ms/step - loss: 3.5570 - accuracy: 0.1679 - val_loss: 3.6227 - val_accuracy: 0.1652\n",
            "Epoch 61/500\n",
            "313/313 [==============================] - 55s 174ms/step - loss: 3.5633 - accuracy: 0.1681 - val_loss: 3.5091 - val_accuracy: 0.1790\n",
            "Epoch 62/500\n",
            "313/313 [==============================] - 55s 176ms/step - loss: 3.5711 - accuracy: 0.1618 - val_loss: 3.6467 - val_accuracy: 0.1577\n",
            "Epoch 63/500\n",
            "313/313 [==============================] - 55s 175ms/step - loss: 3.5713 - accuracy: 0.1635 - val_loss: 3.6237 - val_accuracy: 0.1634\n",
            "Epoch 64/500\n",
            "313/313 [==============================] - 54s 173ms/step - loss: 3.5718 - accuracy: 0.1643 - val_loss: 3.6401 - val_accuracy: 0.1602\n",
            "Epoch 65/500\n",
            "313/313 [==============================] - 55s 175ms/step - loss: 3.5618 - accuracy: 0.1658 - val_loss: 3.5389 - val_accuracy: 0.1786\n",
            "Epoch 66/500\n",
            "313/313 [==============================] - 56s 178ms/step - loss: 3.5696 - accuracy: 0.1644 - val_loss: 3.6151 - val_accuracy: 0.1702\n",
            "Epoch 67/500\n",
            "313/313 [==============================] - 54s 173ms/step - loss: 3.5647 - accuracy: 0.1646 - val_loss: 3.5569 - val_accuracy: 0.1701\n",
            "Epoch 68/500\n",
            "313/313 [==============================] - 52s 165ms/step - loss: 3.5902 - accuracy: 0.1650 - val_loss: 3.6187 - val_accuracy: 0.1638\n",
            "Epoch 69/500\n",
            "313/313 [==============================] - 56s 178ms/step - loss: 3.5885 - accuracy: 0.1636 - val_loss: 3.5946 - val_accuracy: 0.1719\n",
            "Epoch 70/500\n",
            "313/313 [==============================] - 54s 172ms/step - loss: 3.5816 - accuracy: 0.1621 - val_loss: 3.5927 - val_accuracy: 0.1722\n",
            "Epoch 71/500\n",
            "313/313 [==============================] - 57s 182ms/step - loss: 3.5822 - accuracy: 0.1622 - val_loss: 3.6099 - val_accuracy: 0.1701\n",
            "Epoch 72/500\n",
            "313/313 [==============================] - 54s 174ms/step - loss: 3.5812 - accuracy: 0.1636 - val_loss: 3.5999 - val_accuracy: 0.1675\n",
            "Epoch 73/500\n",
            "313/313 [==============================] - 55s 175ms/step - loss: 3.5769 - accuracy: 0.1633 - val_loss: 3.6384 - val_accuracy: 0.1645\n",
            "Epoch 74/500\n",
            "313/313 [==============================] - 55s 175ms/step - loss: 3.5832 - accuracy: 0.1644 - val_loss: 3.6020 - val_accuracy: 0.1635\n",
            "Epoch 75/500\n",
            "313/313 [==============================] - 56s 179ms/step - loss: 3.5705 - accuracy: 0.1658 - val_loss: 3.5758 - val_accuracy: 0.1645\n",
            "Epoch 76/500\n",
            "313/313 [==============================] - 55s 176ms/step - loss: 3.5835 - accuracy: 0.1641 - val_loss: 3.5919 - val_accuracy: 0.1683\n",
            "Epoch 77/500\n",
            "313/313 [==============================] - 55s 177ms/step - loss: 3.5950 - accuracy: 0.1610 - val_loss: 3.5991 - val_accuracy: 0.1660\n",
            "Epoch 78/500\n",
            "313/313 [==============================] - 60s 192ms/step - loss: 3.5858 - accuracy: 0.1639 - val_loss: 3.6301 - val_accuracy: 0.1667\n",
            "Epoch 79/500\n",
            "313/313 [==============================] - 58s 187ms/step - loss: 3.5911 - accuracy: 0.1586 - val_loss: 3.5747 - val_accuracy: 0.1669\n",
            "Epoch 80/500\n",
            "313/313 [==============================] - 57s 183ms/step - loss: 3.5850 - accuracy: 0.1614 - val_loss: 3.7005 - val_accuracy: 0.1531\n",
            "Epoch 81/500\n",
            "313/313 [==============================] - 56s 178ms/step - loss: 3.5982 - accuracy: 0.1602 - val_loss: 3.7315 - val_accuracy: 0.1403\n",
            "Epoch 82/500\n",
            "313/313 [==============================] - 54s 174ms/step - loss: 3.5866 - accuracy: 0.1617 - val_loss: 3.6079 - val_accuracy: 0.1598\n",
            "Epoch 83/500\n",
            "313/313 [==============================] - 56s 180ms/step - loss: 3.6110 - accuracy: 0.1583 - val_loss: 3.6553 - val_accuracy: 0.1600\n",
            "Epoch 84/500\n",
            "313/313 [==============================] - 54s 172ms/step - loss: 3.5892 - accuracy: 0.1611 - val_loss: 3.6683 - val_accuracy: 0.1594\n",
            "Epoch 85/500\n",
            "313/313 [==============================] - 55s 177ms/step - loss: 3.6054 - accuracy: 0.1626 - val_loss: 3.7020 - val_accuracy: 0.1546\n",
            "Epoch 86/500\n",
            "313/313 [==============================] - 56s 178ms/step - loss: 3.5976 - accuracy: 0.1596 - val_loss: 3.6881 - val_accuracy: 0.1495\n",
            "Epoch 87/500\n",
            "313/313 [==============================] - 54s 173ms/step - loss: 3.6150 - accuracy: 0.1593 - val_loss: 3.8374 - val_accuracy: 0.1273\n",
            "Epoch 88/500\n",
            "313/313 [==============================] - 55s 175ms/step - loss: 3.6079 - accuracy: 0.1604 - val_loss: 3.6637 - val_accuracy: 0.1481\n",
            "Epoch 89/500\n",
            "313/313 [==============================] - 56s 178ms/step - loss: 3.5998 - accuracy: 0.1623 - val_loss: 3.6554 - val_accuracy: 0.1532\n",
            "Epoch 90/500\n",
            "313/313 [==============================] - 55s 177ms/step - loss: 3.6034 - accuracy: 0.1607 - val_loss: 3.6911 - val_accuracy: 0.1540\n",
            "Epoch 91/500\n",
            "313/313 [==============================] - 56s 180ms/step - loss: 3.6103 - accuracy: 0.1581 - val_loss: 3.5880 - val_accuracy: 0.1664\n",
            "Epoch 92/500\n",
            "313/313 [==============================] - 58s 185ms/step - loss: 3.5986 - accuracy: 0.1599 - val_loss: 3.6473 - val_accuracy: 0.1602\n",
            "Epoch 93/500\n",
            "313/313 [==============================] - 56s 180ms/step - loss: 3.5965 - accuracy: 0.1609 - val_loss: 3.6887 - val_accuracy: 0.1596\n",
            "Epoch 94/500\n",
            "313/313 [==============================] - 53s 171ms/step - loss: 3.6055 - accuracy: 0.1619 - val_loss: 3.6360 - val_accuracy: 0.1610\n"
          ]
        }
      ]
    },
    {
      "cell_type": "code",
      "source": [
        "#vẽ đồ thị\n",
        "plt.plot(history.history['accuracy'])\n",
        "plt.plot(history.history['val_accuracy'])\n",
        "plt.title('model accuracy')\n",
        "plt.ylabel('accuracy')\n",
        "plt.xlabel('epochs')\n",
        "plt.legend(['train','Validation'])\n",
        "plt.show()"
      ],
      "metadata": {
        "colab": {
          "base_uri": "https://localhost:8080/",
          "height": 295
        },
        "id": "k4zYkf5eieSs",
        "outputId": "3b0d64d9-f173-4153-ac24-275e5313aa12"
      },
      "execution_count": null,
      "outputs": [
        {
          "output_type": "display_data",
          "data": {
            "text/plain": [
              "<Figure size 432x288 with 1 Axes>"
            ],
            "image/png": "[encoded data removed]"
          },
          "metadata": {
            "needs_background": "light"
          }
        }
      ]
    },
    {
      "cell_type": "code",
      "source": [
        "#đánh giá kết quả\n",
        "score = model.evaluate(x_test,y_test,verbose=0)\n",
        "print('Sai số kiểm tra là: ',score[0])\n",
        "print('Độ chính xác kiểm tra là: ',score[1])"
      ],
      "metadata": {
        "id": "BVRCiD332ikp",
        "outputId": "46a0848d-d575-45ec-d82d-ffaafc2aa78a",
        "colab": {
          "base_uri": "https://localhost:8080/"
        }
      },
      "execution_count": null,
      "outputs": [
        {
          "output_type": "stream",
          "name": "stdout",
          "text": [
            "Sai số kiểm tra là:  3.642573833465576\n",
            "Độ chính xác kiểm tra là:  0.15889999270439148\n"
          ]
        }
      ]
    },
    {
      "cell_type": "code",
      "source": [
        ""
      ],
      "metadata": {
        "id": "0I4OwzW_2kh0"
      },
      "execution_count": null,
      "outputs": []
    }
  ]
}